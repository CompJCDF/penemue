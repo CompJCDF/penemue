{
 "cells": [
  {
   "cell_type": "markdown",
   "metadata": {},
   "source": [
    "<img\n",
    "    style=\"float:left;width:20%;\"\n",
    "    title=\"Cardiff University Logo\"\n",
    "    src=\"https://upload.wikimedia.org/wikipedia/en/b/b1/Cardiff_university_logo.png\"\n",
    "    />"
   ]
  },
  {
   "cell_type": "markdown",
   "metadata": {},
   "source": [
    "# Media Monitor Analysis\n",
    "\n",
    "A joint research project between the [School of Computer Science](https://www.cs.cf.ac.uk/) and the [School of Journalism](http://www.cardiff.ac.uk/journalism-media-cultural-studies) at Cardiff University. \n",
    "\n",
    "*by [Taylor Rees](http://taylorre.es)*\n",
    "\n",
    "---\n",
    "\n",
    "*This notebook requires a mongoDB database called **`media-monitor`** with a **`tweets`** collection containing [Tweet objects](https://dev.twitter.com/overview/api/tweets). It aims to analyse the data collected by the [media-monitor](https://github.com/taylorrees/media-monitor) tool.*\n",
    "\n",
    "## Table of Contents\n",
    "\n",
    "- [1. Key Terms](#1.-Key-Terms)\n",
    "\n",
    "\n",
    "- [2. Getting Started](#2.-Getting-Started)\n",
    "\n",
    "\n",
    "- [3. Distribution Analysis](#3.-Distribution-Analysis)\n",
    "    - [3.1. Original Tweets](#3.1.-Original-Tweets)\n",
    "    - [3.2. Retweets](#3.2.-Retweets)\n",
    "    - [3.3. Replies](#3.3.-Replies)\n",
    "    - [3.4. Links](#3.4.-Links)\n",
    "    - [3.5. Hashtags](#3.5.-Hashtags)\n",
    "    \n",
    "    \n",
    "- [4. Network Analysis](#4.-Network-Analysis)\n",
    "    - [4.1. Mentions](#4.1.-Mentions)\n",
    "    - [4.2. Replies](#4.2.-Replies)\n",
    "    \n",
    "    \n",
    "- [5. Sentiment Analysis](#5.-Sentiment-Analysis)\n",
    "    - [5.1. All Tweets](#5.1.-All-Tweets)\n",
    "    - [5.2. Journalists](#5.2.-Journalists)\n",
    "    - [5.3. Organisations](#5.3.-Organisations)\n",
    "\n",
    "---\n",
    "\n",
    "## 1. Key Terms\n",
    "\n",
    "**`JOI`** Journalists of interest\n",
    "\n",
    "**`OOI`** Organisations of interest\n",
    "\n",
    "**`EXT`** Accounts not followed by streaming api\n",
    "\n",
    "## 2. Getting Started\n",
    "\n",
    "To get started you'll need the following packages\n",
    "- `pymongo`\n",
    "- `matplotlib`\n",
    "- `textblob`\n",
    "- `beautifulsoup4`\n",
    "\n",
    "To install them run"
   ]
  },
  {
   "cell_type": "code",
   "execution_count": null,
   "metadata": {
    "collapsed": false
   },
   "outputs": [],
   "source": [
    "%%bash\n",
    "pip3 install pymongo\n",
    "pip3 install matplotlib\n",
    "pip3 install textblob\n",
    "pip3 install beautifulsoup4"
   ]
  },
  {
   "cell_type": "markdown",
   "metadata": {},
   "source": [
    "Next you'll need to import the dependencies. "
   ]
  },
  {
   "cell_type": "code",
   "execution_count": null,
   "metadata": {
    "collapsed": false
   },
   "outputs": [],
   "source": [
    "\"\"\"Import dependencies\"\"\"\n",
    "\n",
    "from collections import Counter\n",
    "from IPython.display import display\n",
    "from IPython.display import Markdown\n",
    "from json import loads\n",
    "import matplotlib.pyplot as plt\n",
    "import numpy as np\n",
    "import sys\n",
    "\n",
    "from db import DB\n",
    "\n",
    "%matplotlib inline"
   ]
  },
  {
   "cell_type": "markdown",
   "metadata": {},
   "source": [
    "Collect the tweet data"
   ]
  },
  {
   "cell_type": "code",
   "execution_count": null,
   "metadata": {
    "collapsed": false,
    "scrolled": true
   },
   "outputs": [],
   "source": [
    "def report(n, tweet):\n",
    "    \"\"\"Report on function progress\"\"\"\n",
    "    \n",
    "    if n % 1000 == 0:\n",
    "        sys.stdout.write(\"=\")\n",
    "        sys.stdout.flush()\n",
    "\n",
    "    return tweet\n",
    "\n",
    "def tweets(callback, *args, **kwargs):\n",
    "    \"\"\"Iterate through tweets\"\"\"\n",
    "\n",
    "    tweets_file = \"./analysis/data/tweets.json\"\n",
    "\n",
    "    sys.stdout.write(\"[Progress] \\n[\")\n",
    "    sys.stdout.flush()\n",
    "\n",
    "    with open(tweets_file, \"r\") as tweets:\n",
    "        result = [callback(report(n, loads(tweet)), *args, **kwargs)\n",
    "                for n, tweet in enumerate(tweets)\n",
    "                    if callback(loads(tweet), *args, **kwargs)]\n",
    "\n",
    "    sys.stdout.write(\"]\\n\")\n",
    "    sys.stdout.flush()\n",
    "\n",
    "    return result"
   ]
  },
  {
   "cell_type": "code",
   "execution_count": null,
   "metadata": {
    "collapsed": false
   },
   "outputs": [],
   "source": [
    "\"\"\"Print total number of tweets\"\"\"\n",
    "\n",
    "print(\"\\n[Tweets] %s\" % len(tweets(lambda tweet : 1)))"
   ]
  },
  {
   "cell_type": "code",
   "execution_count": null,
   "metadata": {
    "collapsed": true
   },
   "outputs": [],
   "source": []
  },
  {
   "cell_type": "markdown",
   "metadata": {},
   "source": [
    "Now we setup new collections in the database.\n",
    "\n",
    "We also need to extend the `Collect` class to cater to our needs as we want the store method to clear a specified collection everytime it is called.\n",
    "\n",
    "_**Note**_\n",
    "\n",
    "Only call if the journalists and organisations collections are not already setup in the database. This will read the JSON files containing journalist and organisation twitter lists and store them in the appropriate database."
   ]
  },
  {
   "cell_type": "code",
   "execution_count": null,
   "metadata": {
    "collapsed": false
   },
   "outputs": [],
   "source": [
    "\"\"\"Setup for collection creation\"\"\"\n",
    "\n",
    "from json import load\n",
    "from collect import Collect\n",
    "\n",
    "class Collect(Collect):\n",
    "    def store(self, collection):\n",
    "        # extend and alter store\n",
    "        DB[collection].delete_many({})\n",
    "        DB[collection].insert_many(self.members)"
   ]
  },
  {
   "cell_type": "code",
   "execution_count": null,
   "metadata": {
    "collapsed": false
   },
   "outputs": [],
   "source": [
    "\"\"\"Create database collections\"\"\"\n",
    "\n",
    "# get & store journalists from twitter lists\n",
    "j = load(open(\"journalists.json\"))\n",
    "collect = Collect(lists=j)\n",
    "collect.store(\"journalists\")\n",
    "\n",
    "# get & store news organisations from twitter lists\n",
    "o = load(open(\"organisations.json\"))\n",
    "collect = Collect(lists=o, refine=False, append=True)\n",
    "collect.store(\"organisations\")"
   ]
  },
  {
   "cell_type": "markdown",
   "metadata": {},
   "source": [
    "## 3. Distribution Analysis\n",
    "\n",
    "*A collection of inline visualisations to illustrate the demographics of the data collected.*"
   ]
  },
  {
   "cell_type": "code",
   "execution_count": null,
   "metadata": {
    "collapsed": false
   },
   "outputs": [],
   "source": [
    "\"\"\"Setup for distribution analysis\"\"\"\n",
    "\n",
    "journalists = DB.journalists.distinct(\"id_str\")\n",
    "organisations = DB.organisations.distinct(\"id_str\")"
   ]
  },
  {
   "cell_type": "code",
   "execution_count": null,
   "metadata": {
    "collapsed": true
   },
   "outputs": [],
   "source": [
    "def dist_pie(joi, ooi):\n",
    "    \"\"\"Plot a pie chart\"\"\"\n",
    "    \n",
    "    # calculate mean percentage\n",
    "    joi_size = len(joi)\n",
    "    ooi_size = len(ooi)\n",
    "    total = joi_size + ooi_size\n",
    "\n",
    "    joi_mean = (joi_size / total) * 100\n",
    "    ooi_mean = (ooi_size / total) * 100\n",
    "\n",
    "    # data to plot\n",
    "    sizes = [joi_mean, ooi_mean]\n",
    "    labels = \"Journalists\", \"Organisations\"\n",
    "    colors = ['lightskyblue', 'lightcoral']\n",
    "    \n",
    "    # plot\n",
    "    plt.pie(sizes, labels=labels, colors=colors, autopct='%1.1f%%', \n",
    "        shadow=True, startangle=90)\n",
    "\n",
    "    plt.axis('equal')\n",
    "    plt.show()"
   ]
  },
  {
   "cell_type": "code",
   "execution_count": null,
   "metadata": {
    "collapsed": true
   },
   "outputs": [],
   "source": [
    "def top_10(joi, ooi, label):\n",
    "    \"\"\"Plot a bar chart of top 10\"\"\"\n",
    "    \n",
    "    # create list of users\n",
    "    id_strs = [\"@%s\" % screen_name for screen_name in joi]\n",
    "    id_strs += [\"@%s\" % screen_name for screen_name in ooi]\n",
    "\n",
    "    # count occurances\n",
    "    counter = Counter(id_strs)\n",
    "    most_common = counter.most_common(10)\n",
    "\n",
    "    # data to plot\n",
    "    labels, y = zip(*most_common)\n",
    "    x = range(len(labels))\n",
    "    \n",
    "    # plot\n",
    "    plt.bar(x, y, alpha=0.5)\n",
    "    plt.xticks(x, labels, rotation='90')\n",
    "    plt.ylabel(label)\n",
    "    plt.show()"
   ]
  },
  {
   "cell_type": "code",
   "execution_count": null,
   "metadata": {
    "collapsed": true
   },
   "outputs": [],
   "source": [
    "def tabulate(headers, data):\n",
    "    \"\"\"Output a markdown table\"\"\"\n",
    "    \n",
    "    # data to output \n",
    "    table = \" | \".join(headers) + \" \\n\"\n",
    "    table += \" --- | --- \\n\"\n",
    "\n",
    "    for row in data:\n",
    "        table += \" | \".join(str(x) for x in row) + \" \\n\"\n",
    "\n",
    "    # output\n",
    "    display(Markdown(table))"
   ]
  },
  {
   "cell_type": "markdown",
   "metadata": {},
   "source": [
    "### 3.1. Original Tweets\n",
    "\n",
    "This section of the analysis aims to look at the number of original tweets authored throughout the data collection period. An original tweet is one that has been published by a user that is not a reply nor a retweet. We will look for tweets authored by the `JOI`, `OOI` and `EXT` accounts. "
   ]
  },
  {
   "cell_type": "code",
   "execution_count": null,
   "metadata": {
    "collapsed": false
   },
   "outputs": [],
   "source": [
    "\"\"\"Collect the data\"\"\"\n",
    "\n",
    "def get_original(tweet, search):\n",
    "    if (tweet[\"user\"][\"id_str\"] in search \n",
    "        and tweet[\"in_reply_to_status_id_str\"] is None \n",
    "        and \"retweeted_status\" not in tweet):\n",
    "            return tweet[\"user\"][\"screen_name\"]\n",
    "\n",
    "joi_originals = tweets(lambda tweet : get_original(tweet, journalists))\n",
    "ooi_originals = tweets(lambda tweet : get_original(tweet, organisations))"
   ]
  },
  {
   "cell_type": "code",
   "execution_count": 85,
   "metadata": {
    "collapsed": false
   },
   "outputs": [
    {
     "data": {
      "image/png": "[encoded data removed]",
      "text/plain": [
       "<matplotlib.figure.Figure at 0x7f46ebb3c7f0>"
      ]
     },
     "metadata": {},
     "output_type": "display_data"
    }
   ],
   "source": [
    "\"\"\"Plot a pie chart\"\"\"\n",
    "\n",
    "dist_pie(joi_originals, ooi_originals)"
   ]
  },
  {
   "cell_type": "code",
   "execution_count": 86,
   "metadata": {
    "collapsed": false
   },
   "outputs": [
    {
     "data": {
      "image/png": "[encoded data removed]",
      "text/plain": [
       "<matplotlib.figure.Figure at 0x7f46eb3dbba8>"
      ]
     },
     "metadata": {},
     "output_type": "display_data"
    }
   ],
   "source": [
    "\"\"\"Plot top 10\"\"\"\n",
    "\n",
    "top_10(joi_originals, ooi_originals, label=\"Original Tweets\")"
   ]
  },
  {
   "cell_type": "code",
   "execution_count": 87,
   "metadata": {
    "collapsed": false
   },
   "outputs": [
    {
     "data": {
      "text/markdown": [
       "JOI Original Tweets | OOI Original Tweets \n",
       " --- | --- \n",
       "242070 | 81485 \n"
      ],
      "text/plain": [
       "<IPython.core.display.Markdown object>"
      ]
     },
     "metadata": {},
     "output_type": "display_data"
    }
   ],
   "source": [
    "\"\"\"Print totals\"\"\"\n",
    "\n",
    "tabulate((\"JOI Original Tweets\", \"OOI Original Tweets\"), \n",
    "         [(len(joi_originals), len(ooi_originals))])"
   ]
  },
  {
   "cell_type": "markdown",
   "metadata": {
    "collapsed": true
   },
   "source": [
    "### 3.2. Retweets\n",
    "\n",
    "This section of the analysis aims to look at the number of retweets created throughout the data collection period. "
   ]
  },
  {
   "cell_type": "code",
   "execution_count": null,
   "metadata": {
    "collapsed": false
   },
   "outputs": [],
   "source": [
    "\"\"\"Collect the data\"\"\"\n",
    "\n",
    "def get_retweet(tweet, search):\n",
    "    if (tweet[\"user\"][\"id_str\"] in search \n",
    "        and \"retweeted_status\" in tweet):\n",
    "            return tweet[\"user\"][\"screen_name\"]\n",
    "\n",
    "joi_retweets = tweets(lambda tweet : get_retweet(tweet, journalists))\n",
    "ooi_retweets = tweets(lambda tweet : get_retweet(tweet, organisations))"
   ]
  },
  {
   "cell_type": "code",
   "execution_count": 88,
   "metadata": {
    "collapsed": false
   },
   "outputs": [
    {
     "data": {
      "image/png": "[encoded data removed]",
      "text/plain": [
       "<matplotlib.figure.Figure at 0x7f46f9882f60>"
      ]
     },
     "metadata": {},
     "output_type": "display_data"
    }
   ],
   "source": [
    "\"\"\"Plot a pie chart\"\"\"\n",
    "\n",
    "dist_pie(joi_retweets, ooi_retweets)"
   ]
  },
  {
   "cell_type": "code",
   "execution_count": 89,
   "metadata": {
    "collapsed": false,
    "scrolled": false
   },
   "outputs": [
    {
     "data": {
      "image/png": "[encoded data removed]",
      "text/plain": [
       "<matplotlib.figure.Figure at 0x7f471aaee470>"
      ]
     },
     "metadata": {},
     "output_type": "display_data"
    }
   ],
   "source": [
    "\"\"\"Plot top 10\"\"\"\n",
    "\n",
    "top_10(joi_retweets, ooi_retweets, label=\"Retweets\")"
   ]
  },
  {
   "cell_type": "code",
   "execution_count": 90,
   "metadata": {
    "collapsed": false
   },
   "outputs": [
    {
     "data": {
      "text/markdown": [
       "JOI Retweets | OOI Retweets \n",
       " --- | --- \n",
       "208816 | 17016 \n"
      ],
      "text/plain": [
       "<IPython.core.display.Markdown object>"
      ]
     },
     "metadata": {},
     "output_type": "display_data"
    }
   ],
   "source": [
    "\"\"\"Print totals\"\"\"\n",
    "\n",
    "tabulate((\"JOI Retweets\", \"OOI Retweets\"), \n",
    "         [(len(joi_retweets), len(ooi_retweets))])"
   ]
  },
  {
   "cell_type": "markdown",
   "metadata": {},
   "source": [
    "### 3.3. Replies\n",
    "\n",
    "This section of the analysis aims to look at the number of replies authored throughout the data collection period. "
   ]
  },
  {
   "cell_type": "code",
   "execution_count": null,
   "metadata": {
    "collapsed": false
   },
   "outputs": [],
   "source": [
    "\"\"\"Collect the data\"\"\"\n",
    "\n",
    "def get_reply(tweet, search):\n",
    "    if (tweet[\"user\"][\"id_str\"] in search \n",
    "        and tweet[\"in_reply_to_status_id_str\"] is not None):\n",
    "            return tweet[\"user\"][\"screen_name\"]\n",
    "\n",
    "joi_replies = tweets(lambda tweet : get_reply(tweet, journalists))\n",
    "ooi_replies = tweets(lambda tweet : get_reply(tweet, organisations))"
   ]
  },
  {
   "cell_type": "code",
   "execution_count": 91,
   "metadata": {
    "collapsed": false
   },
   "outputs": [
    {
     "data": {
      "image/png": "[encoded data removed]",
      "text/plain": [
       "<matplotlib.figure.Figure at 0x7f471aba7160>"
      ]
     },
     "metadata": {},
     "output_type": "display_data"
    }
   ],
   "source": [
    "\"\"\"Plot a pie chart\"\"\"\n",
    "\n",
    "dist_pie(joi_replies, ooi_replies)"
   ]
  },
  {
   "cell_type": "code",
   "execution_count": 92,
   "metadata": {
    "collapsed": false
   },
   "outputs": [
    {
     "data": {
      "image/png": "[encoded data removed]",
      "text/plain": [
       "<matplotlib.figure.Figure at 0x7f471b2d6fd0>"
      ]
     },
     "metadata": {},
     "output_type": "display_data"
    }
   ],
   "source": [
    "\"\"\"Plot top 10\"\"\"\n",
    "\n",
    "top_10(joi_replies, ooi_replies, label=\"Replies\")"
   ]
  },
  {
   "cell_type": "code",
   "execution_count": 93,
   "metadata": {
    "collapsed": false
   },
   "outputs": [
    {
     "data": {
      "text/markdown": [
       "JOI Replies | OOI Replies \n",
       " --- | --- \n",
       "117587 | 1123 \n"
      ],
      "text/plain": [
       "<IPython.core.display.Markdown object>"
      ]
     },
     "metadata": {},
     "output_type": "display_data"
    }
   ],
   "source": [
    "\"\"\"Print totals\"\"\"\n",
    "\n",
    "tabulate((\"JOI Replies\", \"OOI Replies\"), \n",
    "         [(len(joi_replies), len(ooi_replies))])"
   ]
  },
  {
   "cell_type": "markdown",
   "metadata": {},
   "source": [
    "### 3.4. Links\n",
    "\n",
    "This section of the analysis aims to look at the number of links included in the body of the tweets collected throughout the data collection period. "
   ]
  },
  {
   "cell_type": "code",
   "execution_count": null,
   "metadata": {
    "collapsed": false,
    "scrolled": true
   },
   "outputs": [],
   "source": [
    "\"\"\"Collect the data\"\"\"\n",
    "\n",
    "def get_url(tweet):\n",
    "    for url in tweet[\"entities\"][\"urls\"]:\n",
    "        return url[\"expanded_url\"]\n",
    "\n",
    "urls = tweets(get_url)"
   ]
  },
  {
   "cell_type": "code",
   "execution_count": 94,
   "metadata": {
    "collapsed": false,
    "scrolled": false
   },
   "outputs": [
    {
     "data": {
      "text/markdown": [
       "URL | Page Title | Occurances \n",
       " --- | --- \n",
       "http://bbc.in/264XBZu | Corbyn ballot challenge ruling & Boris Johnson in Paris talks - BBC News | 23546 \n",
       "http://bbc.co.uk/chilcot | The Chilcot report - BBC News | 12441 \n",
       "http://bbc.in/29Ks0ns | As it happened: Turkey coup - BBC News | 12430 \n",
       "http://bbc.in/29Hmy2f | Nice attack: Dozens killed during Bastille Day celebrations - BBC News | 10140 \n",
       "http://dailym.ai/2aeYeXq | Victoria's new road safety ambassador Graham with the body to survive a car crash Daily Mail Online | 8080 \n",
       "http://bbc.in/29IZoJa | Germany axe attack: Assault on train in Wuerzburg injures HK family - BBC News | 6459 \n",
       "http://bbc.in/29jGj1l | Medina explosion: Suicide bombing near Saudi holy site - BBC News | 6409 \n",
       "http://bbc.in/2a10eGn | Kabul explosion: Islamic State 'admits attack on Hazara protest' - BBC News | 6253 \n",
       "http://bbc.in/29OxgqY | Corbyn ballot challenge ruling & Boris Johnson in Paris talks - BBC News | 5483 \n",
       "http://bbc.in/2a6az1f | German-Iranian teenager behind Munich shootings - BBC News | 5215 \n"
      ],
      "text/plain": [
       "<IPython.core.display.Markdown object>"
      ]
     },
     "metadata": {},
     "output_type": "display_data"
    }
   ],
   "source": [
    "\"\"\"Display top 10\"\"\"\n",
    "\n",
    "import requests\n",
    "import bs4\n",
    "import re\n",
    "\n",
    "def get_title(url):\n",
    "    \"\"\"Get some article contect i.e. title of \n",
    "    article, subtitle, etc.\"\"\"\n",
    "    \n",
    "    # get title text\n",
    "    html = requests.get(url)\n",
    "    soup = bs4.BeautifulSoup(html.text, \"html.parser\")\n",
    "    title = soup.title.string if soup.title != None else \"\"\n",
    "    # remove markdown grammar\n",
    "    title = re.sub(r\"\\r\", \" \", title)\n",
    "    title = re.sub(r\"\\n\", \" \", title)\n",
    "    title = re.sub(r\"\\|\", \" \", title)\n",
    "    title = re.sub(r\"\\s+\", \" \", title)\n",
    "    # remove leading whitespace\n",
    "    title = title.lstrip()\n",
    "    # remove trailing whitespace\n",
    "    title = title.rstrip()\n",
    "    \n",
    "    return title\n",
    "\n",
    "counter = Counter(urls)\n",
    "most_common_links = [(url, get_title(url), occ) \n",
    "                     for (url, occ) in counter.most_common(10)]\n",
    "\n",
    "tabulate([\"URL\", \"Page Title\", \"Occurances\"], most_common_links)"
   ]
  },
  {
   "cell_type": "code",
   "execution_count": 95,
   "metadata": {
    "collapsed": false
   },
   "outputs": [
    {
     "data": {
      "text/markdown": [
       "Links | Unique \n",
       " --- | --- \n",
       "5289657 | 334172 \n"
      ],
      "text/plain": [
       "<IPython.core.display.Markdown object>"
      ]
     },
     "metadata": {},
     "output_type": "display_data"
    }
   ],
   "source": [
    "\"\"\"Display an overview\"\"\"\n",
    "\n",
    "tabulate((\"Links\", \"Unique\"), [(len(urls), len(set(urls)))])"
   ]
  },
  {
   "cell_type": "markdown",
   "metadata": {},
   "source": [
    "### 3.5. Hashtags\n",
    "\n",
    "This section of the analysis aims to look at the number of hashtags included in the body of the tweets collected throughout the data collection period. "
   ]
  },
  {
   "cell_type": "code",
   "execution_count": null,
   "metadata": {
    "collapsed": false
   },
   "outputs": [],
   "source": [
    "\"\"\"Collect the data\"\"\"\n",
    "\n",
    "def get_hashtag(tweet):\n",
    "    for hashtags in tweet[\"entities\"][\"hashtags\"]:\n",
    "        return hashtags[\"text\"]\n",
    "    \n",
    "hashtags = tweets(get_hashtag)"
   ]
  },
  {
   "cell_type": "code",
   "execution_count": 96,
   "metadata": {
    "collapsed": false
   },
   "outputs": [
    {
     "data": {
      "image/png": "[encoded data removed]",
      "text/plain": [
       "<matplotlib.figure.Figure at 0x7f46ebb230b8>"
      ]
     },
     "metadata": {},
     "output_type": "display_data"
    }
   ],
   "source": [
    "\"\"\"Plot top 10\"\"\"\n",
    "\n",
    "most_common = Counter(hashtags).most_common(10)\n",
    "most_common = [(\"#\" + key, value) for (key, value) in most_common]\n",
    "\n",
    "# data to plot\n",
    "labels, y = zip(*most_common)\n",
    "x = range(len(labels))\n",
    "    \n",
    "# plot\n",
    "plt.bar(x, y, alpha=0.5)\n",
    "plt.xticks(x, labels, rotation='90')\n",
    "plt.ylabel(\"Tweets\")\n",
    "plt.show()"
   ]
  },
  {
   "cell_type": "code",
   "execution_count": null,
   "metadata": {
    "collapsed": true
   },
   "outputs": [],
   "source": [
    "# FUTURE\n",
    "# Group journalists by hashtag and determine their discussions\n",
    "# Can guage how much work is discused / How personal the account is"
   ]
  },
  {
   "cell_type": "code",
   "execution_count": 97,
   "metadata": {
    "collapsed": false
   },
   "outputs": [
    {
     "data": {
      "text/markdown": [
       "Hashtags | Unique \n",
       " --- | --- \n",
       "1795499 | 72393 \n"
      ],
      "text/plain": [
       "<IPython.core.display.Markdown object>"
      ]
     },
     "metadata": {},
     "output_type": "display_data"
    }
   ],
   "source": [
    "\"\"\"Display an overview\"\"\"\n",
    "\n",
    "tabulate((\"Hashtags\", \"Unique\"), [(len(hashtags), len(set(hashtags)))])"
   ]
  },
  {
   "cell_type": "markdown",
   "metadata": {},
   "source": [
    "## 4. Network Analysis\n",
    "\n",
    "*A collection of computed datasets to create network visualisations using an external graphing tool such as [Gephi](https://gephi.org).*"
   ]
  },
  {
   "cell_type": "code",
   "execution_count": null,
   "metadata": {
    "collapsed": true
   },
   "outputs": [],
   "source": [
    "\"\"\"Setup for network analysis\"\"\"\n",
    "\n",
    "from pymongo import MongoClient\n",
    "from csv import writer\n",
    "from time import time\n",
    "\n",
    "# specify output folder\n",
    "output_folder = \"./analysis\""
   ]
  },
  {
   "cell_type": "markdown",
   "metadata": {},
   "source": [
    "### 4.1. Mentions\n",
    "\n",
    "This section aims to generate a collection of nodes and associated edges from a twitter mentions dataset. "
   ]
  },
  {
   "cell_type": "code",
   "execution_count": null,
   "metadata": {
    "collapsed": false,
    "scrolled": false
   },
   "outputs": [],
   "source": [
    "\"\"\"Collect the data\"\"\"\n",
    "\n",
    "start = time()\n",
    "\n",
    "# find all edges\n",
    "edges = [(tweet[\"user\"][\"screen_name\"], mention[\"screen_name\"])\n",
    "         for tweet in tweets[:]\n",
    "             for mention in tweet[\"entities\"][\"user_mentions\"]]\n",
    "\n",
    "# generate nodes from edges\n",
    "nodes = {node \n",
    "         for edge in edges \n",
    "             for node in edge}\n",
    "\n",
    "print(\"Runtime: %.3fs\" % (time() - start))"
   ]
  },
  {
   "cell_type": "code",
   "execution_count": null,
   "metadata": {
    "collapsed": false
   },
   "outputs": [],
   "source": [
    "\"\"\"Write nodes to CSV\"\"\"\n",
    "\n",
    "node_file = \"%s/mention_nodes.csv\" % (output_folder)\n",
    "\n",
    "# convert into csv format\n",
    "nodes = [[node, node] \n",
    "         for node in nodes]\n",
    "\n",
    "with open(node_file, 'w') as f:\n",
    "    w = writer(f)\n",
    "    w.writerow([\"id\", \"label\"])\n",
    "    w.writerows(nodes)"
   ]
  },
  {
   "cell_type": "code",
   "execution_count": null,
   "metadata": {
    "collapsed": true
   },
   "outputs": [],
   "source": [
    "\"\"\"Write edges to CSV\"\"\"\n",
    "\n",
    "edge_file = \"%s/mention_edges.csv\" % (output_folder)\n",
    "\n",
    "# convert into csv format\n",
    "edges = [[nodes[0], nodes[1], weight] \n",
    "         for nodes, weight in Counter(edges).items()]\n",
    "\n",
    "with open(edge_file, 'w') as f:\n",
    "    w = writer(f)\n",
    "    w.writerow([\"source\", \"target\", \"weight\"])\n",
    "    w.writerows(edges)"
   ]
  },
  {
   "cell_type": "markdown",
   "metadata": {},
   "source": [
    "### 4.2. Replies\n",
    "\n",
    "This section aims to generate a collection of nodes and associated edges from a twitter replies dataset. "
   ]
  },
  {
   "cell_type": "code",
   "execution_count": null,
   "metadata": {
    "collapsed": false
   },
   "outputs": [],
   "source": [
    "\"\"\"Collect the data\"\"\"\n",
    "\n",
    "start = time()\n",
    "nodes = set()\n",
    "edges = set()\n",
    "\n",
    "# collect nodes\n",
    "for tweet in tweets:\n",
    "    source = tweet[\"user\"][\"id_str\"]\n",
    "    target = tweet[\"in_reply_to_user_id_str\"]\n",
    "\n",
    "    if target is not None:\n",
    "        nodes.add((source, source))\n",
    "        nodes.add((target, target))\n",
    "        edges.add((source, target))\n",
    "        \n",
    "print(\"Runtime: %.3fs\" % (time() - start))"
   ]
  },
  {
   "cell_type": "code",
   "execution_count": null,
   "metadata": {
    "collapsed": false
   },
   "outputs": [],
   "source": [
    "\"\"\"Write nodes to CSV\"\"\"\n",
    "\n",
    "node_file = \"%s/reply_nodes.csv\" % (output_folder)\n",
    "\n",
    "with open(node_file, 'w') as f:\n",
    "    w = writer(f)\n",
    "    w.writerow([\"id\", \"label\"])\n",
    "    w.writerows(nodes)"
   ]
  },
  {
   "cell_type": "code",
   "execution_count": null,
   "metadata": {
    "collapsed": true
   },
   "outputs": [],
   "source": [
    "\"\"\"Write edges to CSV\"\"\"\n",
    "\n",
    "edge_file = \"%s/reply_edges.csv\" % (output_folder)\n",
    "\n",
    "with open(edge_file, 'w') as f:\n",
    "    w = writer(f)\n",
    "    w.writerow([\"source\", \"target\"])\n",
    "    w.writerows(edges)"
   ]
  },
  {
   "cell_type": "markdown",
   "metadata": {},
   "source": [
    "## 5. Sentiment Analysis\n",
    "\n",
    "*An attempt to classify the sentiment of the collected data.*"
   ]
  },
  {
   "cell_type": "code",
   "execution_count": null,
   "metadata": {
    "collapsed": true
   },
   "outputs": [],
   "source": [
    "\"\"\"Setup for sentiment analysis\"\"\"\n",
    "\n",
    "from textblob import TextBlob"
   ]
  },
  {
   "cell_type": "code",
   "execution_count": null,
   "metadata": {
    "collapsed": true
   },
   "outputs": [],
   "source": [
    "def sentiment(tweets):\n",
    "    \"\"\"Get the number of positive, neutral and\n",
    "    negative tweets in a sample.\"\"\"\n",
    "    \n",
    "    polarity = [TextBlob(text).sentiment.polarity\n",
    "                for text in tweets]\n",
    "\n",
    "    positive = len([x \n",
    "                    for x in polarity\n",
    "                         if x > 0])\n",
    "\n",
    "    neutral = len([x \n",
    "                  for x in polarity\n",
    "                      if x == 0])\n",
    "\n",
    "    negative = len([x \n",
    "                   for x in polarity\n",
    "                       if x < 0])\n",
    "    \n",
    "    return positive, neutral, negative"
   ]
  },
  {
   "cell_type": "code",
   "execution_count": null,
   "metadata": {
    "collapsed": true
   },
   "outputs": [],
   "source": [
    "def sent_pie(positive, neutral, negative):\n",
    "    \"\"\"Plot a pie chart\"\"\"\n",
    "    \n",
    "    sizes = (negative, neutral, positive)\n",
    "    labels = (\"Negative\", \"Neutral\", \"Positive\")\n",
    "    colors = ('lightcoral', 'gold', 'lightgreen')\n",
    "\n",
    "    plt.pie(sizes, labels=labels, colors=colors, autopct='%1.1f%%', \n",
    "            shadow=True, startangle=90, explode=(0,0,0.1))\n",
    "\n",
    "    plt.axis('equal')\n",
    "    plt.show()"
   ]
  },
  {
   "cell_type": "markdown",
   "metadata": {},
   "source": [
    "### 5.1. All Tweets\n",
    "\n",
    "This section aims to produce statistics related to the sentiment of all tweets in the dataset."
   ]
  },
  {
   "cell_type": "code",
   "execution_count": null,
   "metadata": {
    "collapsed": false,
    "scrolled": true
   },
   "outputs": [],
   "source": [
    "\"\"\"Collect the data\"\"\"\n",
    "\n",
    "positive, neutral, negative = sentiment(tweets(lambda tweet : tweet[\"text\"]))"
   ]
  },
  {
   "cell_type": "code",
   "execution_count": 98,
   "metadata": {
    "collapsed": false,
    "scrolled": true
   },
   "outputs": [
    {
     "data": {
      "image/png": "[encoded data removed]",
      "text/plain": [
       "<matplotlib.figure.Figure at 0x7f4721aa5a90>"
      ]
     },
     "metadata": {},
     "output_type": "display_data"
    }
   ],
   "source": [
    "\"\"\"Plot a pie chart\"\"\"\n",
    "\n",
    "sent_pie(positive, neutral, negative)"
   ]
  },
  {
   "cell_type": "markdown",
   "metadata": {},
   "source": [
    "### 5.2. Journalists\n",
    "\n",
    "This section aims to produce statistics related to the sentiment of all original tweets authored by the journalists in the dataset. Please run the first cell of [section 3.1.](#3.1.-Original-Tweets) before attempting to run this section as it requires the `joi_originals` dataset in order to function as intended."
   ]
  },
  {
   "cell_type": "code",
   "execution_count": null,
   "metadata": {
    "collapsed": false
   },
   "outputs": [],
   "source": [
    "\"\"\"Collect the data\"\"\"\n",
    "\n",
    "positive, neutral, negative = sentiment(joi_originals)"
   ]
  },
  {
   "cell_type": "code",
   "execution_count": null,
   "metadata": {
    "collapsed": false,
    "scrolled": true
   },
   "outputs": [],
   "source": [
    "\"\"\"Plot a pie chart\"\"\"\n",
    "\n",
    "sent_pie(positive, neutral, negative)"
   ]
  },
  {
   "cell_type": "markdown",
   "metadata": {},
   "source": [
    "### 5.3. Organisations\n",
    "\n",
    "This section aims to produce statistics related to the sentiment of all original tweets authored by the organisations in the dataset. Please run the first cell of [section 3.1.](#3.1.-Original-Tweets) before attempting to run this section as it requires the `ooi_originals` dataset in order to function as intended."
   ]
  },
  {
   "cell_type": "code",
   "execution_count": null,
   "metadata": {
    "collapsed": true
   },
   "outputs": [],
   "source": [
    "\"\"\"Collect the data\"\"\"\n",
    "\n",
    "positive, neutral, negative = sentiment(ooi_originals)"
   ]
  },
  {
   "cell_type": "code",
   "execution_count": null,
   "metadata": {
    "collapsed": false,
    "scrolled": true
   },
   "outputs": [],
   "source": [
    "\"\"\"Plot a pie chart\"\"\"\n",
    "\n",
    "sent_pie(positive, neutral, negative)"
   ]
  },
  {
   "cell_type": "code",
   "execution_count": null,
   "metadata": {
    "collapsed": true
   },
   "outputs": [],
   "source": []
  }
 ],
 "metadata": {
  "kernelspec": {
   "display_name": "Python 3",
   "language": "python",
   "name": "python3"
  },
  "language_info": {
   "codemirror_mode": {
    "name": "ipython",
    "version": 3
   },
   "file_extension": ".py",
   "mimetype": "text/x-python",
   "name": "python",
   "nbconvert_exporter": "python",
   "pygments_lexer": "ipython3",
   "version": "3.5.1+"
  },
  "widgets": {
   "state": {},
   "version": "1.1.2"
  }
 },
 "nbformat": 4,
 "nbformat_minor": 0
}
