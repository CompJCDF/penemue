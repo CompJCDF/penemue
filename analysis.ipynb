{
 "cells": [
  {
   "cell_type": "markdown",
   "metadata": {},
   "source": [
    "<a href=\"http://cardiff.ac.uk\" style=\"float:left\">\n",
    "  <img \n",
    "    title=\"Cardiff University Logo\" \n",
    "    src=\"https://upload.wikimedia.org/wikipedia/en/b/b1/Cardiff_university_logo.png\"\n",
    "    />\n",
    "</a>"
   ]
  },
  {
   "cell_type": "markdown",
   "metadata": {},
   "source": [
    "# Media Monitor Analysis\n",
    "\n",
    "Part of a joint research project between the [School of Computer Science](https://www.cs.cf.ac.uk/) and the [School of Journalism](http://www.cardiff.ac.uk/journalism-media-cultural-studies) at Cardiff University. \n",
    "\n",
    "---\n",
    "\n",
    "*This notebook requires a mongoDB database called **`media-monitor`** with a **`tweets`** collection containing [Tweet objects](https://dev.twitter.com/overview/api/tweets). It aims to analyse the data collected by the [media-monitor](https://github.com/taylorrees/media-monitor) tool.*\n",
    "\n",
    "## Table of Contents\n",
    "\n",
    "- [1. Key Terms](#1.-Key-Terms)\n",
    "- [2. Getting Started](#2.-Getting-Started)\n",
    "- [3. Analysis](#3.-Analysis)\n",
    "    - [3.1. Original Tweets](#3.1.-Original-Tweets)\n",
    "    - [3.2. Retweets](#3.2.-Retweets)\n",
    "    - [3.3. Replies](#3.3.-Replies)\n",
    "    - [3.4. Links](#3.4.-Links)\n",
    "    - [3.5. Hashtags](#3.5.-Hashtags)\n",
    "- [4. Networks](#4.-Networks)\n",
    "    - [4.1. Mentions](#4.1.-Mentions)\n",
    "    - [4.2. Replies](#4.2.-Replies)\n",
    "\n",
    "---\n",
    "\n",
    "## 1. Key Terms\n",
    "\n",
    "**`JOI`** Journalists of interest\n",
    "\n",
    "**`OOI`** Organisations of interest\n",
    "\n",
    "**`EXT`** Accounts not followed by streaming api\n",
    "\n",
    "## 2. Getting Started\n",
    "\n",
    "To get started import the dependencies. \n",
    "\n",
    "*We also need to extend the `Collect` class to cater to our needs as we want the store method to clear a specified collection everytime it is called.*"
   ]
  },
  {
   "cell_type": "code",
   "execution_count": 1,
   "metadata": {
    "collapsed": false
   },
   "outputs": [],
   "source": [
    "from db import DB\n",
    "from json import load\n",
    "from collect import Collect\n",
    "from collections import Counter\n",
    "from IPython.display import display\n",
    "from IPython.display import Markdown\n",
    "\n",
    "# allow inline plotting\n",
    "%matplotlib inline\n",
    "import matplotlib.pyplot as plt\n",
    "import numpy as np\n",
    "\n",
    "class Collect(Collect):\n",
    "    def store(self, collection):\n",
    "        # extend and alter store\n",
    "        DB[collection].delete_many({})\n",
    "        DB[collection].insert_many(self.members)"
   ]
  },
  {
   "cell_type": "markdown",
   "metadata": {},
   "source": [
    "Next, setup new collections in the database.\n",
    "\n",
    "_**Note**_\n",
    "\n",
    "Only call if the journalists and organisations collections are not already setup in the database. This will read the JSON files containing journalist and organisation twitter lists and store them in the appropriate database."
   ]
  },
  {
   "cell_type": "code",
   "execution_count": null,
   "metadata": {
    "collapsed": true
   },
   "outputs": [],
   "source": [
    "# get & store journalists from twitter lists\n",
    "j = load(open(\"journalists.json\"))\n",
    "collect = Collect(lists=j)\n",
    "collect.store(\"journalists\")\n",
    "\n",
    "# get & store news organisations from twitter lists\n",
    "o = load(open(\"organisations.json\"))\n",
    "collect = Collect(lists=o, refine=False, append=True)\n",
    "collect.store(\"organisations\")"
   ]
  },
  {
   "cell_type": "markdown",
   "metadata": {},
   "source": [
    "## 3. Analysis\n",
    "\n",
    "*A collection of inline visualisations to illustrate the demographics of the data collected.*"
   ]
  },
  {
   "cell_type": "markdown",
   "metadata": {},
   "source": [
    "### 3.1. Original Tweets\n",
    "\n",
    "This section of the analysis aims to look at the number of original tweets authored throughout the data collection period. An original tweet is one that has been published by a user that is not a reply nor a retweet. We will look for tweets authored by the `JOI`, `OOI` and `EXT` accounts. "
   ]
  },
  {
   "cell_type": "code",
   "execution_count": 2,
   "metadata": {
    "collapsed": false
   },
   "outputs": [],
   "source": [
    "# get sets of id_str's\n",
    "journalists = DB.journalists.distinct(\"id_str\")\n",
    "organisations = DB.organisations.distinct(\"id_str\")\n",
    "\n",
    "joi = DB.tweets.find({\n",
    "    \"user.id_str\": {\"$in\": journalists},\n",
    "    \"in_reply_to_status_id_str\": {\"$eq\": None},\n",
    "    \"retweeted_status\": {\"$exists\": False}\n",
    "})\n",
    "\n",
    "ooi = DB.tweets.find({\n",
    "    \"user.id_str\": {\"$in\": organisations},\n",
    "    \"in_reply_to_status_id_str\": {\"$eq\": None},\n",
    "    \"retweeted_status\": {\"$exists\": False}\n",
    "})"
   ]
  },
  {
   "cell_type": "code",
   "execution_count": 3,
   "metadata": {
    "collapsed": false
   },
   "outputs": [
    {
     "data": {
      "image/png": "[encoded data removed]",
      "text/plain": [
       "<matplotlib.figure.Figure at 0x10ee22128>"
      ]
     },
     "metadata": {},
     "output_type": "display_data"
    }
   ],
   "source": [
    "\"\"\"Plot a pie chart\"\"\"\n",
    "\n",
    "# calculate mean percentage\n",
    "total = joi.count() + ooi.count()\n",
    "joi_size = (joi.count() / total) * 100\n",
    "ooi_size = (ooi.count() / total) * 100\n",
    "\n",
    "# data to plot\n",
    "sizes = [joi_size, ooi_size]\n",
    "labels = \"Journalists\", \"Organisations\"\n",
    "colors = ['lightskyblue', 'lightcoral']\n",
    "\n",
    "# plot\n",
    "plt.pie(sizes, labels=labels, colors=colors, autopct='%1.1f%%', \n",
    "        shadow=True, startangle=90)\n",
    "\n",
    "plt.axis('equal')\n",
    "plt.show()"
   ]
  },
  {
   "cell_type": "code",
   "execution_count": 4,
   "metadata": {
    "collapsed": false
   },
   "outputs": [
    {
     "data": {
      "text/markdown": [
       "**Top 10**"
      ],
      "text/plain": [
       "<IPython.core.display.Markdown object>"
      ]
     },
     "metadata": {},
     "output_type": "display_data"
    },
    {
     "data": {
      "image/png": "[encoded data removed]",
      "text/plain": [
       "<matplotlib.figure.Figure at 0x1109c7e10>"
      ]
     },
     "metadata": {},
     "output_type": "display_data"
    }
   ],
   "source": [
    "\"\"\"Plot top 10\"\"\"\n",
    "\n",
    "counter = {j:0 for j in journalists + organisations}\n",
    "\n",
    "# create list of users\n",
    "id_strs = [\"@%s\" % tweet[\"user\"][\"screen_name\"] for tweet in joi.clone()]\n",
    "id_strs += [\"@%s\" % tweet[\"user\"][\"screen_name\"] for tweet in ooi.clone()]\n",
    "\n",
    "# count occurances\n",
    "counter = Counter(id_strs)\n",
    "most_common = counter.most_common(10)\n",
    "\n",
    "# data to plot\n",
    "labels, y = zip(*most_common)\n",
    "x = range(len(labels))\n",
    "    \n",
    "# plot\n",
    "display(Markdown(\"**Top 10**\"))\n",
    "plt.bar(x, y, alpha=0.5)\n",
    "plt.xticks(x, labels, rotation='45')\n",
    "plt.ylabel(\"Original Tweets\")\n",
    "plt.show()"
   ]
  },
  {
   "cell_type": "markdown",
   "metadata": {
    "collapsed": true
   },
   "source": [
    "### 3.2. Retweets\n",
    "\n",
    "This section of the analysis aims to look at the number of retweets created throughout the data collection period. "
   ]
  },
  {
   "cell_type": "code",
   "execution_count": 5,
   "metadata": {
    "collapsed": false
   },
   "outputs": [],
   "source": [
    "\"\"\"Collect the data\"\"\"\n",
    "\n",
    "# get sets of id_str's\n",
    "journalists = DB.journalists.distinct(\"id_str\")\n",
    "organisations = DB.organisations.distinct(\"id_str\")\n",
    "\n",
    "joi = DB.tweets.find({\n",
    "    \"user.id_str\": {\"$in\": journalists},\n",
    "    \"retweeted_status\": {\"$exists\": True}\n",
    "})\n",
    "\n",
    "ooi = DB.tweets.find({\n",
    "    \"user.id_str\": {\"$in\": organisations},\n",
    "    \"retweeted_status\": {\"$exists\": True}\n",
    "})"
   ]
  },
  {
   "cell_type": "code",
   "execution_count": 6,
   "metadata": {
    "collapsed": false
   },
   "outputs": [
    {
     "data": {
      "image/png": "[encoded data removed]",
      "text/plain": [
       "<matplotlib.figure.Figure at 0x10eda4780>"
      ]
     },
     "metadata": {},
     "output_type": "display_data"
    }
   ],
   "source": [
    "\"\"\"Plot a pie chart\"\"\"\n",
    "\n",
    "# calculate mean percentage\n",
    "total = joi.count() + ooi.count()\n",
    "joi_size = (joi.count() / total) * 100\n",
    "ooi_size = (ooi.count() / total) * 100\n",
    "\n",
    "# data to plot\n",
    "sizes = [joi_size, ooi_size]\n",
    "labels = \"Journalists\", \"Organisations\"\n",
    "colors = ['lightskyblue', 'lightcoral']\n",
    "\n",
    "# plot\n",
    "plt.pie(sizes, labels=labels, colors=colors, \n",
    "        autopct='%1.1f%%', shadow=True, startangle=90)\n",
    "\n",
    "plt.axis('equal')\n",
    "plt.show()"
   ]
  },
  {
   "cell_type": "code",
   "execution_count": 7,
   "metadata": {
    "collapsed": false,
    "scrolled": false
   },
   "outputs": [
    {
     "data": {
      "text/markdown": [
       "**Top 10**"
      ],
      "text/plain": [
       "<IPython.core.display.Markdown object>"
      ]
     },
     "metadata": {},
     "output_type": "display_data"
    },
    {
     "data": {
      "image/png": "[encoded data removed]",
      "text/plain": [
       "<matplotlib.figure.Figure at 0x110949048>"
      ]
     },
     "metadata": {},
     "output_type": "display_data"
    }
   ],
   "source": [
    "\"\"\"Plot top 10\"\"\"\n",
    "\n",
    "counter = {j:0 for j in journalists + organisations}\n",
    "\n",
    "# create list of users\n",
    "id_strs = [\"@%s\" % tweet[\"user\"][\"screen_name\"] for tweet in joi.clone()]\n",
    "id_strs += [\"@%s\" % tweet[\"user\"][\"screen_name\"] for tweet in ooi.clone()]\n",
    "\n",
    "# count occurances\n",
    "counter = Counter(id_strs)\n",
    "most_common = counter.most_common(10)\n",
    "\n",
    "# data to plot\n",
    "labels, y = zip(*most_common)\n",
    "x = range(len(labels))\n",
    "    \n",
    "# plot\n",
    "display(Markdown(\"**Top 10**\"))\n",
    "plt.bar(x, y, alpha=0.5)\n",
    "plt.xticks(x, labels, rotation='45')\n",
    "plt.ylabel(\"Original Tweets\")\n",
    "plt.show()"
   ]
  },
  {
   "cell_type": "markdown",
   "metadata": {},
   "source": [
    "### 3.3. Replies\n",
    "\n",
    "This section of the analysis aims to look at the number of replies authored throughout the data collection period. "
   ]
  },
  {
   "cell_type": "code",
   "execution_count": 8,
   "metadata": {
    "collapsed": false
   },
   "outputs": [],
   "source": [
    "\"\"\"Collect the data\"\"\"\n",
    "\n",
    "# get sets of id_str's\n",
    "journalists = DB.journalists.distinct(\"id_str\")\n",
    "organisations = DB.organisations.distinct(\"id_str\")\n",
    "\n",
    "joi = DB.tweets.find({\n",
    "    \"user.id_str\": {\"$in\": journalists},\n",
    "    \"in_reply_to_status_id_str\": {\"$ne\": None}\n",
    "})\n",
    "\n",
    "ooi = DB.tweets.find({\n",
    "    \"user.id_str\": {\"$in\": organisations},\n",
    "    \"in_reply_to_status_id_str\": {\"$ne\": None}\n",
    "})"
   ]
  },
  {
   "cell_type": "code",
   "execution_count": 9,
   "metadata": {
    "collapsed": false
   },
   "outputs": [
    {
     "data": {
      "image/png": "[encoded data removed]",
      "text/plain": [
       "<matplotlib.figure.Figure at 0x1106c9e48>"
      ]
     },
     "metadata": {},
     "output_type": "display_data"
    }
   ],
   "source": [
    "\"\"\"Plot a pie chart\"\"\"\n",
    "\n",
    "# calculate mean percentage\n",
    "total = joi.count() + ooi.count()\n",
    "joi_size = (joi.count() / total) * 100\n",
    "ooi_size = (ooi.count() / total) * 100\n",
    "\n",
    "# data to plot\n",
    "sizes = [joi_size, ooi_size]\n",
    "labels = \"Journalists\", \"Organisations\"\n",
    "colors = ['lightskyblue', 'lightcoral']\n",
    "\n",
    "# plot\n",
    "plt.pie(sizes, labels=labels, colors=colors, \n",
    "        autopct='%1.1f%%', shadow=True, startangle=90)\n",
    "\n",
    "plt.axis('equal')\n",
    "plt.show()"
   ]
  },
  {
   "cell_type": "code",
   "execution_count": 10,
   "metadata": {
    "collapsed": false
   },
   "outputs": [
    {
     "data": {
      "text/markdown": [
       "**Top 10**"
      ],
      "text/plain": [
       "<IPython.core.display.Markdown object>"
      ]
     },
     "metadata": {},
     "output_type": "display_data"
    },
    {
     "data": {
      "image/png": "[encoded data removed]",
      "text/plain": [
       "<matplotlib.figure.Figure at 0x110c95588>"
      ]
     },
     "metadata": {},
     "output_type": "display_data"
    }
   ],
   "source": [
    "\"\"\"Plot top 10\"\"\"\n",
    "\n",
    "counter = {j:0 for j in journalists + organisations}\n",
    "\n",
    "# create list of users\n",
    "id_strs = [\"@%s\" % tweet[\"user\"][\"screen_name\"] for tweet in joi.clone()]\n",
    "id_strs += [\"@%s\" % tweet[\"user\"][\"screen_name\"] for tweet in ooi.clone()]\n",
    "\n",
    "# count occurances\n",
    "counter = Counter(id_strs)\n",
    "most_common = counter.most_common(10)\n",
    "\n",
    "# data to plot\n",
    "labels, y = zip(*most_common)\n",
    "x = range(len(labels))\n",
    "    \n",
    "# plot\n",
    "display(Markdown(\"**Top 10**\"))\n",
    "plt.bar(x, y, alpha=0.5)\n",
    "plt.xticks(x, labels, rotation='45')\n",
    "plt.ylabel(\"Original Tweets\")\n",
    "plt.show()"
   ]
  },
  {
   "cell_type": "markdown",
   "metadata": {},
   "source": [
    "### 3.4. Links\n",
    "\n",
    "This section of the analysis aims to look at the number of links included in the body of the tweets collected throughout the data collection period. "
   ]
  },
  {
   "cell_type": "code",
   "execution_count": 11,
   "metadata": {
    "collapsed": false,
    "scrolled": false
   },
   "outputs": [],
   "source": [
    "\"\"\"Collect the data\"\"\"\n",
    "\n",
    "tweets = [t for t in DB.tweets.find()]\n",
    "urls = [h[\"expanded_url\"] for t in tweets for h in t[\"entities\"][\"urls\"]]"
   ]
  },
  {
   "cell_type": "code",
   "execution_count": 12,
   "metadata": {
    "collapsed": false
   },
   "outputs": [
    {
     "data": {
      "text/markdown": [
       "**Top 10**"
      ],
      "text/plain": [
       "<IPython.core.display.Markdown object>"
      ]
     },
     "metadata": {},
     "output_type": "display_data"
    },
    {
     "data": {
      "text/markdown": [
       " | URL | Occurances | \n",
       "| --- | ---------- | \n",
       "| [http://bbc.co.uk/chilcot](http://bbc.co.uk/chilcot) | 586 | \n",
       "| [http://snpy.tv/29w8hdD](http://snpy.tv/29w8hdD) | 173 | \n",
       "| [http://bbc.in/29lj1LX](http://bbc.in/29lj1LX) | 146 | \n",
       "| [http://cnn.it/29gUodd](http://cnn.it/29gUodd) | 70 | \n",
       "| [http://reut.rs/29lj4HT](http://reut.rs/29lj4HT) | 60 | \n",
       "| [http://www.telegraph.co.uk/new...](http://www.telegraph.co.uk/news/2016/07/06/chilcot-inquiry-judgement-day-for-tony-blair-as-iraq-war-report/) | 58 | \n",
       "| [http://bbc.in/29l5lRm](http://bbc.in/29l5lRm) | 45 | \n",
       "| [http://snpy.tv/29hfPeJ](http://snpy.tv/29hfPeJ) | 44 | \n",
       "| [http://ind.pn/29nxzqs](http://ind.pn/29nxzqs) | 42 | \n",
       "| [http://nyti.ms/29w2dli](http://nyti.ms/29w2dli) | 40 | \n"
      ],
      "text/plain": [
       "<IPython.core.display.Markdown object>"
      ]
     },
     "metadata": {},
     "output_type": "display_data"
    }
   ],
   "source": [
    "\"\"\"Display top 10\"\"\"\n",
    "\n",
    "most_common = Counter(urls).most_common(10)\n",
    "most_common = [(key, value) for (key, value) in most_common]\n",
    "\n",
    "# data to output \n",
    "table = \" | URL | Occurances | \\n\"\n",
    "table += \"| --- | ---------- | \\n\"\n",
    "\n",
    "for url, occ in most_common:\n",
    "    # truncate long urls\n",
    "    truncated = (url[:30] + \"...\") if len(url) > 25 else url\n",
    "    table += \"| [%s](%s) | %s | \\n\" % (truncated, url, occ)\n",
    "    \n",
    "# output\n",
    "display(Markdown(\"**Top 10**\"))\n",
    "display(Markdown(table))"
   ]
  },
  {
   "cell_type": "code",
   "execution_count": 13,
   "metadata": {
    "collapsed": false
   },
   "outputs": [
    {
     "data": {
      "text/markdown": [
       " | Links | Unique | \n",
       "| ----- | ------ | \n",
       "| 3195 | 657 | \n"
      ],
      "text/plain": [
       "<IPython.core.display.Markdown object>"
      ]
     },
     "metadata": {},
     "output_type": "display_data"
    }
   ],
   "source": [
    "\"\"\"Display an overview\"\"\"\n",
    "\n",
    "# data to output\n",
    "table = \" | Links | Unique | \\n\"\n",
    "table += \"| ----- | ------ | \\n\"\n",
    "table += \"| %s | %s | \\n\" % (len(urls), len(set(urls)))\n",
    "\n",
    "# output\n",
    "display(Markdown(table))"
   ]
  },
  {
   "cell_type": "markdown",
   "metadata": {},
   "source": [
    "### 3.5. Hashtags\n",
    "\n",
    "This section of the analysis aims to look at the number of hashtags included in the body of the tweets collected throughout the data collection period. "
   ]
  },
  {
   "cell_type": "code",
   "execution_count": 14,
   "metadata": {
    "collapsed": false
   },
   "outputs": [],
   "source": [
    "\"\"\"Collect the data\"\"\"\n",
    "\n",
    "tweets = [t for t in DB.tweets.find()]\n",
    "hashtags = [h[\"text\"] for t in tweets for h in t[\"entities\"][\"hashtags\"]]"
   ]
  },
  {
   "cell_type": "code",
   "execution_count": 15,
   "metadata": {
    "collapsed": false
   },
   "outputs": [
    {
     "data": {
      "text/markdown": [
       "**Top 10**"
      ],
      "text/plain": [
       "<IPython.core.display.Markdown object>"
      ]
     },
     "metadata": {},
     "output_type": "display_data"
    },
    {
     "data": {
      "image/png": "[encoded data removed]",
      "text/plain": [
       "<matplotlib.figure.Figure at 0x110982748>"
      ]
     },
     "metadata": {},
     "output_type": "display_data"
    }
   ],
   "source": [
    "\"\"\"Plot top 10\"\"\"\n",
    "\n",
    "most_common = Counter(hashtags).most_common(10)\n",
    "most_common = [(key, value) for (key, value) in most_common]\n",
    "\n",
    "# data to plot\n",
    "labels, y = zip(*most_common)\n",
    "x = range(len(labels))\n",
    "\n",
    "# plot\n",
    "display(Markdown(\"**Top 10**\"))\n",
    "plt.bar(x, y, alpha=0.5)\n",
    "plt.xticks(x, labels, rotation='45')\n",
    "plt.ylabel(\"Tweets\")\n",
    "plt.show()"
   ]
  },
  {
   "cell_type": "code",
   "execution_count": 16,
   "metadata": {
    "collapsed": false
   },
   "outputs": [
    {
     "data": {
      "text/markdown": [
       " | Hashtags | Unique | \n",
       "| -------- | ------ | \n",
       "| 1735 | 167 | \n"
      ],
      "text/plain": [
       "<IPython.core.display.Markdown object>"
      ]
     },
     "metadata": {},
     "output_type": "display_data"
    }
   ],
   "source": [
    "\"\"\"Display an overview\"\"\"\n",
    "\n",
    "# data to output\n",
    "table = \" | Hashtags | Unique | \\n\"\n",
    "table += \"| -------- | ------ | \\n\"\n",
    "table += \"| %s | %s | \\n\" % (len(hashtags), len(set(hashtags)))\n",
    "\n",
    "display(Markdown(table))"
   ]
  },
  {
   "cell_type": "markdown",
   "metadata": {},
   "source": [
    "## 4. Networks\n",
    "\n",
    "*A collection of computed datasets to create network visualisations using an external graphing tool such as [Gephi](https://gephi.org).*"
   ]
  },
  {
   "cell_type": "code",
   "execution_count": 17,
   "metadata": {
    "collapsed": true
   },
   "outputs": [],
   "source": [
    "\"\"\"Setup for processing\"\"\"\n",
    "\n",
    "from pymongo import MongoClient\n",
    "from csv import writer\n",
    "from time import time\n",
    "\n",
    "# specify output folder\n",
    "output_folder = \"./analysis\""
   ]
  },
  {
   "cell_type": "markdown",
   "metadata": {},
   "source": [
    "### 4.1. Mentions\n",
    "\n",
    "This section aims to generate a collection of nodes and associated edges from a twitter mentions dataset. "
   ]
  },
  {
   "cell_type": "code",
   "execution_count": 31,
   "metadata": {
    "collapsed": false,
    "scrolled": false
   },
   "outputs": [
    {
     "name": "stdout",
     "output_type": "stream",
     "text": [
      "Runtime: 0.843s\n"
     ]
    }
   ],
   "source": [
    "\"\"\"Collect the data\"\"\"\n",
    "\n",
    "start = time()\n",
    "\n",
    "tweets = [tweet \n",
    "          for tweet in DB.tweets.find()]\n",
    "\n",
    "# find all edges\n",
    "edges = [(tweet[\"user\"][\"screen_name\"], mention[\"screen_name\"])\n",
    "         for tweet in tweets[:]\n",
    "             for mention in tweet[\"entities\"][\"user_mentions\"]]\n",
    "\n",
    "# generate nodes from edges\n",
    "nodes = {node \n",
    "         for edge in edges \n",
    "             for node in edge}\n",
    "\n",
    "print(\"Runtime: %.3fs\" % (time() - start))"
   ]
  },
  {
   "cell_type": "code",
   "execution_count": 32,
   "metadata": {
    "collapsed": false
   },
   "outputs": [],
   "source": [
    "\"\"\"Write nodes to CSV\"\"\"\n",
    "\n",
    "node_file = \"%s/mention_nodes.csv\" % (output_folder)\n",
    "\n",
    "# convert into csv format\n",
    "nodes = [[node, node] \n",
    "         for node in nodes]\n",
    "\n",
    "with open(node_file, 'w') as f:\n",
    "    w = writer(f)\n",
    "    w.writerow([\"id\", \"label\"])\n",
    "    w.writerows(nodes)"
   ]
  },
  {
   "cell_type": "code",
   "execution_count": 33,
   "metadata": {
    "collapsed": true
   },
   "outputs": [],
   "source": [
    "\"\"\"Write edges to CSV\"\"\"\n",
    "\n",
    "edge_file = \"%s/mention_edges.csv\" % (output_folder)\n",
    "\n",
    "# convert into csv format\n",
    "edges = [[nodes[0], nodes[1], weight] \n",
    "         for nodes, weight in Counter(edges).items()]\n",
    "\n",
    "with open(edge_file, 'w') as f:\n",
    "    w = writer(f)\n",
    "    w.writerow([\"source\", \"target\", \"weight\"])\n",
    "    w.writerows(edges)"
   ]
  },
  {
   "cell_type": "markdown",
   "metadata": {},
   "source": [
    "### 4.2. Replies\n",
    "\n",
    "This section aims to generate a collection of nodes and associated edges from a twitter replies dataset. "
   ]
  },
  {
   "cell_type": "code",
   "execution_count": 27,
   "metadata": {
    "collapsed": false
   },
   "outputs": [
    {
     "name": "stdout",
     "output_type": "stream",
     "text": [
      "Runtime: 0.839s\n"
     ]
    }
   ],
   "source": [
    "\"\"\"Collect the data\"\"\"\n",
    "\n",
    "start = time()\n",
    "\n",
    "tweets = [t for t in DB.tweets.find()]\n",
    "nodes = set()\n",
    "edges = set()\n",
    "\n",
    "# collect nodes\n",
    "for tweet in tweets:\n",
    "    source = tweet[\"user\"][\"id_str\"]\n",
    "    target = tweet[\"in_reply_to_user_id_str\"]\n",
    "\n",
    "    if target is not None:\n",
    "        nodes.add((source, source))\n",
    "        nodes.add((target, target))\n",
    "        edges.add((source, target))\n",
    "        \n",
    "print(\"Runtime: %.3fs\" % (time() - start))"
   ]
  },
  {
   "cell_type": "code",
   "execution_count": 29,
   "metadata": {
    "collapsed": false
   },
   "outputs": [],
   "source": [
    "\"\"\"Write nodes to CSV\"\"\"\n",
    "\n",
    "node_file = \"%s/reply_nodes.csv\" % (output_folder)\n",
    "\n",
    "with open(node_file, 'w') as f:\n",
    "    w = writer(f)\n",
    "    w.writerow([\"id\", \"label\"])\n",
    "    w.writerows(nodes)"
   ]
  },
  {
   "cell_type": "code",
   "execution_count": 30,
   "metadata": {
    "collapsed": true
   },
   "outputs": [],
   "source": [
    "\"\"\"Write edges to CSV\"\"\"\n",
    "\n",
    "edge_file = \"%s/reply_edges.csv\" % (output_folder)\n",
    "\n",
    "with open(edge_file, 'w') as f:\n",
    "    w = writer(f)\n",
    "    w.writerow([\"source\", \"target\"])\n",
    "    w.writerows(edges)"
   ]
  },
  {
   "cell_type": "code",
   "execution_count": null,
   "metadata": {
    "collapsed": true
   },
   "outputs": [],
   "source": []
  }
 ],
 "metadata": {
  "kernelspec": {
   "display_name": "Python 3",
   "language": "python",
   "name": "python3"
  },
  "language_info": {
   "codemirror_mode": {
    "name": "ipython",
    "version": 3
   },
   "file_extension": ".py",
   "mimetype": "text/x-python",
   "name": "python",
   "nbconvert_exporter": "python",
   "pygments_lexer": "ipython3",
   "version": "3.5.1"
  },
  "widgets": {
   "state": {},
   "version": "1.1.2"
  }
 },
 "nbformat": 4,
 "nbformat_minor": 0
}
