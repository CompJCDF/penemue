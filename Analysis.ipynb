{
 "cells": [
  {
   "cell_type": "markdown",
   "metadata": {},
   "source": [
    "## Media Monitor Analysis\n",
    "\n",
    "Part of a joint research project between the [School of Computer Science](https://www.cs.cf.ac.uk/) and the [School of Journalism](http://www.cardiff.ac.uk/journalism-media-cultural-studies) at Cardiff University. \n",
    "\n",
    "---\n",
    "\n",
    "*This notebook requires a mongoDB database called **`media-monitor`** with a **`tweets`** collection containing [Tweet objects](https://dev.twitter.com/overview/api/tweets). It aims to analyse the data collected by the [media-monitor](https://github.com/taylorrees/media-monitor) tool.*\n",
    "\n",
    "### Key Terms\n",
    "\n",
    "**`JOI`** Journalists of interest\n",
    "\n",
    "**`OOI`** Organisations of interest\n",
    "\n",
    "**`EXT`** Accounts not followed by streaming api\n",
    "\n",
    "### Getting Started\n",
    "\n",
    "To get started import the dependencies. \n",
    "\n",
    "*We also need to extend the `Collect` class to cater to our needs as we want the store method to clear a specified collection everytime it is called.*"
   ]
  },
  {
   "cell_type": "code",
   "execution_count": 2,
   "metadata": {
    "collapsed": false
   },
   "outputs": [],
   "source": [
    "from json import load\n",
    "from collect import Collect\n",
    "from db import DB\n",
    "\n",
    "# allow inline plotting\n",
    "%matplotlib inline\n",
    "import matplotlib.pyplot as plt\n",
    "\n",
    "class Collect(Collect):\n",
    "    def store(self, collection):\n",
    "        # extend and alter store\n",
    "        DB[collection].delete_many({})\n",
    "        DB[collection].insert_many(self.members)"
   ]
  },
  {
   "cell_type": "markdown",
   "metadata": {},
   "source": [
    "Next, setup new collections in the database.\n",
    "\n",
    "_**Note**_\n",
    "\n",
    "Only call if the journalists and organisations collections are not already setup in the database. This will read the JSON files containing journalist and organisation twitter lists and store them in the appropriate database."
   ]
  },
  {
   "cell_type": "code",
   "execution_count": null,
   "metadata": {
    "collapsed": true
   },
   "outputs": [],
   "source": [
    "# get & store journalists from twitter lists\n",
    "j = load(open(\"journalists.json\"))\n",
    "collect = Collect(lists=j)\n",
    "collect.store(\"journalists\")\n",
    "\n",
    "# get & store news organisations from twitter lists\n",
    "o = load(open(\"organisations.json\"))\n",
    "collect = Collect(lists=o, refine=False, append=True)\n",
    "collect.store(\"organisations\")"
   ]
  },
  {
   "cell_type": "markdown",
   "metadata": {},
   "source": [
    "### Original Tweet Analysis\n",
    "\n",
    "This section of the analysis aims to look at the number of original tweets authored throughout the data collection period. An original tweet is one that has been published by a user that is not a reply nor a retweet. We will look for tweets authored by the `JOI`, `OOI` and `EXT` accounts. "
   ]
  },
  {
   "cell_type": "code",
   "execution_count": 11,
   "metadata": {
    "collapsed": false
   },
   "outputs": [
    {
     "data": {
      "image/png": "[encoded data removed]",
      "text/plain": [
       "<matplotlib.figure.Figure at 0x1044c8160>"
      ]
     },
     "metadata": {},
     "output_type": "display_data"
    }
   ],
   "source": [
    "# get sets of id_str's\n",
    "journalists = DB.journalists.distinct(\"id_str\")\n",
    "organisations = DB.organisations.distinct(\"id_str\")\n",
    "\n",
    "_all = DB.tweets.find({\n",
    "    \"in_reply_to_status_id_str\": {\"$eq\": None},\n",
    "    \"retweeted_status\": {\"$exists\": False}\n",
    "}).count()\n",
    "\n",
    "joi = DB.tweets.find({\n",
    "    \"user.id_str\": {\"$in\": journalists},\n",
    "    \"in_reply_to_status_id_str\": {\"$eq\": None},\n",
    "    \"retweeted_status\": {\"$exists\": False}\n",
    "}).count()\n",
    "\n",
    "ooi = DB.tweets.find({\n",
    "    \"user.id_str\": {\"$in\": organisations},\n",
    "    \"in_reply_to_status_id_str\": {\"$eq\": None},\n",
    "    \"retweeted_status\": {\"$exists\": False}\n",
    "}).count()\n",
    "\n",
    "ext = DB.tweets.find({\n",
    "    \"user.id_str\": {\"$nin\": (journalists + organisations)},\n",
    "    \"in_reply_to_status_id_str\": {\"$eq\": None},\n",
    "    \"retweeted_status\": {\"$exists\": False}\n",
    "}).count()\n",
    "\n",
    "joi = (joi / _all) * 100\n",
    "ooi = (joi / _all) * 100\n",
    "joi = (joi / _all) * 100\n",
    "\n",
    "# data to plot\n",
    "labels = \"Journalists\", \"Organisations\", \"External\"\n",
    "sizes = [215, 130, 245]\n",
    "colors = ['gold', 'lightcoral', 'lightskyblue']\n",
    "\n",
    "# plot\n",
    "plt.pie(sizes, labels=labels, colors=colors, autopct='%1.1f%%', \n",
    "        shadow=True, startangle=90)\n",
    "\n",
    "plt.axis('equal')\n",
    "plt.show()\n"
   ]
  },
  {
   "cell_type": "code",
   "execution_count": null,
   "metadata": {
    "collapsed": true
   },
   "outputs": [],
   "source": []
  }
 ],
 "metadata": {
  "kernelspec": {
   "display_name": "Python 3",
   "language": "python",
   "name": "python3"
  },
  "language_info": {
   "codemirror_mode": {
    "name": "ipython",
    "version": 3
   },
   "file_extension": ".py",
   "mimetype": "text/x-python",
   "name": "python",
   "nbconvert_exporter": "python",
   "pygments_lexer": "ipython3",
   "version": "3.5.1"
  },
  "widgets": {
   "state": {},
   "version": "1.1.2"
  }
 },
 "nbformat": 4,
 "nbformat_minor": 0
}
