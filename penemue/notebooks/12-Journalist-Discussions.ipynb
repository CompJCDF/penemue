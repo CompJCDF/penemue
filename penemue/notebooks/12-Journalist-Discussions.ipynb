{
 "cells": [
  {
   "cell_type": "code",
   "execution_count": null,
   "metadata": {
    "collapsed": true
   },
   "outputs": [],
   "source": [
    "import json\n",
    "import sys\n",
    "import os.path\n",
    "import pandas as pd\n",
    "\n",
    "%matplotlib inline\n",
    "\n",
    "# add penemue to path\n",
    "sys.path.append(os.path.abspath(os.path.join(os.getcwd(), os.pardir)))\n",
    "from utils import twiterate"
   ]
  },
  {
   "cell_type": "markdown",
   "metadata": {},
   "source": [
    "- Look at all replies for users who have created a tweet stored in our database\n",
    "- This allows us to examine the user profile\n",
    "- Thus allowing us to classify them as a journalist or not a journalist"
   ]
  },
  {
   "cell_type": "code",
   "execution_count": null,
   "metadata": {
    "collapsed": false
   },
   "outputs": [],
   "source": [
    "tweetsfile = '../data/output/tweets.json'\n",
    "usersfile = '../data/output/users.json'\n",
    "\n",
    "u = json.load(open(usersfile))\n",
    "users = {user['id_str']: user['description'] for user in u}\n",
    "\n",
    "j_to_j = set()\n",
    "j_to_o = set()\n",
    "j_men_j = set()\n",
    "j_men_o = set()\n",
    "\n",
    "keywords = {\"broadcaster\", \"journalists\", \"editor\", \"hack\",\n",
    "            \"sub\", \"critic\", \"reporter\", \"journo\", \"commentator\",\n",
    "            \"journalist\", \"columnist\", \"correspondent\", \"presenter\",\n",
    "            \"producer\", \"features\", \"writing\"}\n",
    "\n",
    "\n",
    "def has_keyword(text):\n",
    "    for word in keywords:\n",
    "        if text != '' and text is not None:\n",
    "            if word in text:\n",
    "                return True\n",
    "        \n",
    "    return False\n",
    "\n",
    "print('[Progress]')\n",
    "print('[', end='')\n",
    "\n",
    "for i, row in enumerate(open(tweetsfile)):\n",
    "    tweet = json.loads(row)\n",
    "    source = tweet['user']['id_str']\n",
    "    source_description = tweet['user']['description']\n",
    "    target = tweet['in_reply_to_user_id_str']\n",
    "    \n",
    "    if ('retweeted_status' not in tweet\n",
    "    and has_keyword(source_description)):\n",
    "        \n",
    "        if (tweet['in_reply_to_status_id_str'] is not None\n",
    "        and target is not None\n",
    "        and target in users):\n",
    "            \n",
    "            target_description = users[target]\n",
    "            if has_keyword(target_description):\n",
    "                j_to_j.add((source, target))\n",
    "            else:\n",
    "                j_to_o.add((source, target))\n",
    "            \n",
    "        if len(tweet['entities']['user_mentions']) > 0:\n",
    "            for mention in tweet['entities']['user_mentions']:\n",
    "                if mention['id_str'] in users:\n",
    "                    \n",
    "                    target_description = users[mention['id_str']]\n",
    "                    if has_keyword(target_description):\n",
    "                        j_men_j.add((source, target))\n",
    "                    else:\n",
    "                        j_men_o.add((source, target))\n",
    "                    \n",
    "     \n",
    "    if i % 1000 == 0:\n",
    "        print('=', end='')\n",
    "\n",
    "len_j_to_j = len(j_to_j)\n",
    "len_j_to_o = len(j_to_o)\n",
    "replies_total = len_j_to_j + len_j_to_o\n",
    "\n",
    "len_j_men_j = len(j_men_j)\n",
    "len_j_men_o = len(j_men_o)\n",
    "mentions_total = len_j_men_j + len_j_men_o\n",
    "\n",
    "print(']')"
   ]
  },
  {
   "cell_type": "code",
   "execution_count": null,
   "metadata": {
    "collapsed": false
   },
   "outputs": [],
   "source": [
    "pd.DataFrame([[len_j_to_j, '%.2f' % ((len_j_to_j / replies_total) * 100)], \n",
    "              [len_j_to_o, '%.2f' % ((len_j_to_o / replies_total) * 100)],\n",
    "              [len_j_men_j, '%.2f' % ((len_j_men_j / mentions_total) * 100)], \n",
    "              [len_j_men_o, '%.2f' % ((len_j_men_o / mentions_total) * 100)]],\n",
    "             ['Journalist Replies to Journalist', \n",
    "              'Journalist Replies to Non Journalist',\n",
    "              'Journalist Mentions Journalist',\n",
    "              'Journalist Mentions Non Journalist'],\n",
    "             ['Quantity', 'Percentage (%)'])"
   ]
  },
  {
   "cell_type": "code",
   "execution_count": null,
   "metadata": {
    "collapsed": true
   },
   "outputs": [],
   "source": []
  }
 ],
 "metadata": {
  "kernelspec": {
   "display_name": "Python 3",
   "language": "python",
   "name": "python3"
  },
  "language_info": {
   "codemirror_mode": {
    "name": "ipython",
    "version": 3
   },
   "file_extension": ".py",
   "mimetype": "text/x-python",
   "name": "python",
   "nbconvert_exporter": "python",
   "pygments_lexer": "ipython3",
   "version": "3.5.1"
  },
  "widgets": {
   "state": {},
   "version": "1.1.2"
  }
 },
 "nbformat": 4,
 "nbformat_minor": 0
}
