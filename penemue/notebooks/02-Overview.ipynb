{
 "cells": [
  {
   "cell_type": "markdown",
   "metadata": {},
   "source": [
    "# Overview\n",
    "\n",
    "An overview of the data collected during our monitoring period. \n",
    "\n",
    "---\n",
    "\n",
    "In this notebook we aim to investigate the distribution of tweets, retweets, replies, hashtags and links within our dataset. By doing this we hope to gain some understanding of the data we have collected. It will also allow us to determine how active the two distinct groups of users, journalists and news organisations, are on social media."
   ]
  },
  {
   "cell_type": "code",
   "execution_count": 1,
   "metadata": {
    "collapsed": false
   },
   "outputs": [],
   "source": [
    "import collections\n",
    "import json\n",
    "import sys\n",
    "import os\n",
    "import requests\n",
    "import bs4\n",
    "import re\n",
    "import matplotlib.pyplot as plt\n",
    "import pandas as pd\n",
    "\n",
    "# add penemue to path\n",
    "sys.path.append(os.path.abspath(os.path.join(os.getcwd(), os.pardir)))\n",
    "from utils import twiterate\n",
    "from utils import Collect\n",
    "\n",
    "%matplotlib inline"
   ]
  },
  {
   "cell_type": "markdown",
   "metadata": {},
   "source": [
    "We begin by loading the user profiles, from the Twitter API, of each user contained within the original set of Twitter lists that we provided to Penemue when we begun our data collection. We then extract only the `id_str` of each user, classifying them into their two distinct groups using the appropriately named variables, journalists and organisations.\n",
    "\n",
    "To do this we make use of the `Collect` class within the Penemue `utils`. By passing it a list of strings containing URLs of the Twitter lists we can begin to extract the user profiles by making rate limited calls to the Twitter API. Once the profiles have been collected, we then retrieve them using the `members` property of the class. As you can see below, our Twitter list URLs are stored in a JSON file so we must first open the appropriate file, then pass its contents to the `Collect` class. "
   ]
  },
  {
   "cell_type": "code",
   "execution_count": 2,
   "metadata": {
    "collapsed": false
   },
   "outputs": [
    {
     "name": "stdout",
     "output_type": "stream",
     "text": [
      "Collecting...\n",
      "Filtered: 4410\n",
      "Users: 4410\n"
     ]
    }
   ],
   "source": [
    "j = json.load(open('../data/journalists.json'))\n",
    "journalists = [user['id_str'] for user in Collect(lists=j).members]    "
   ]
  },
  {
   "cell_type": "markdown",
   "metadata": {},
   "source": [
    "Store each journalist `id_str` to a JSON file."
   ]
  },
  {
   "cell_type": "code",
   "execution_count": 3,
   "metadata": {
    "collapsed": true
   },
   "outputs": [],
   "source": [
    "with open('../data/output/journalist_id_strs.json', 'w') as f:\n",
    "    json.dump(journalists, f)"
   ]
  },
  {
   "cell_type": "code",
   "execution_count": 4,
   "metadata": {
    "collapsed": false
   },
   "outputs": [
    {
     "name": "stdout",
     "output_type": "stream",
     "text": [
      "Collecting...\n",
      "Filtered: 11\n",
      "Users: 11\n"
     ]
    }
   ],
   "source": [
    "o = json.load(open('../data/organisations.json'))\n",
    "organisations = [user['id_str'] for user in Collect(lists=o).members]"
   ]
  },
  {
   "cell_type": "markdown",
   "metadata": {},
   "source": [
    "Store each organisation `id_str` to a JSON file."
   ]
  },
  {
   "cell_type": "code",
   "execution_count": 5,
   "metadata": {
    "collapsed": false
   },
   "outputs": [],
   "source": [
    "with open('../data/output/organisation_id_strs.json', 'w') as f:\n",
    "    json.dump(organisations, f)"
   ]
  },
  {
   "cell_type": "markdown",
   "metadata": {},
   "source": [
    "Now that we have established our users of interest we can begin extracting some figures from the data. In order to present this data we'll define a couple of functions to chart the data as a pie chart of the distribution and a bar chart showing the top 10 occurances in the data."
   ]
  },
  {
   "cell_type": "code",
   "execution_count": 6,
   "metadata": {
    "collapsed": true
   },
   "outputs": [],
   "source": [
    "def pie(joi, ooi):\n",
    "    \"\"\"Generate a pie chart of tweet distribution\n",
    "    \n",
    "    :param joi: A python list\n",
    "                The list should contain \n",
    "                appropriate twitter profile \n",
    "                data.\n",
    "    \n",
    "    :param ooi: A python list\n",
    "                The list should contain \n",
    "                appropriate twitter profile \n",
    "                data.\n",
    "    \"\"\"\n",
    "    \n",
    "    # calculate mean percentage\n",
    "    joi_size = len(joi)\n",
    "    ooi_size = len(ooi)\n",
    "    total = joi_size + ooi_size\n",
    "\n",
    "    joi_mean = (joi_size / total) * 100\n",
    "    ooi_mean = (ooi_size / total) * 100\n",
    "\n",
    "    # data to plot\n",
    "    sizes = [joi_mean, ooi_mean]\n",
    "    labels = \"Journalists\", \"Organisations\"\n",
    "    colors = ['lightskyblue', 'lightcoral']\n",
    "    \n",
    "    # plot\n",
    "    plt.pie(sizes, labels=labels, colors=colors, autopct='%1.1f%%', \n",
    "        shadow=True, startangle=90)\n",
    "\n",
    "    plt.axis('equal')\n",
    "    plt.show()"
   ]
  },
  {
   "cell_type": "code",
   "execution_count": 7,
   "metadata": {
    "collapsed": true
   },
   "outputs": [],
   "source": [
    "def bar(joi, ooi, label):\n",
    "    \"\"\"Generate a bar chart of the top 10\n",
    "    occurances within the provided data\n",
    "    \n",
    "    :param joi:   A python list\n",
    "                  The list should contain \n",
    "                  appropriate twitter profile \n",
    "                  data.\n",
    "    \n",
    "    :param ooi:   A python list\n",
    "                  The list should contain \n",
    "                  appropriate twitter profile \n",
    "                  data.\n",
    "                \n",
    "    :param label: String\n",
    "                  Label for the y-axis\n",
    "    \"\"\"\n",
    "    \n",
    "    # create list of users\n",
    "    id_strs = [\"@%s\" % screen_name for screen_name in joi]\n",
    "    id_strs += [\"@%s\" % screen_name for screen_name in ooi]\n",
    "\n",
    "    # count occurances\n",
    "    counter = collections.Counter(id_strs)\n",
    "    most_common = counter.most_common(10)\n",
    "\n",
    "    # data to plot\n",
    "    labels, y = zip(*most_common)\n",
    "    x = range(len(labels))\n",
    "    \n",
    "    # plot\n",
    "    plt.bar(x, y, alpha=0.5)\n",
    "    plt.xticks(x, labels, rotation='90')\n",
    "    plt.ylabel(label)\n",
    "    plt.show()"
   ]
  },
  {
   "cell_type": "markdown",
   "metadata": {},
   "source": [
    "We begin by establishing the number of _original tweets_ authored by either a journalist of interest (`joi`) or a news organisation of interest (`ooi`) during the period of data collection. An original tweet is one that has been written and published by a user, such that it is not a reply nor a retweet.\n",
    "\n",
    "In order to do this we make use of the `twiterate` function found in the Penemue `utils`. This function allows us to iterate through a JSON file of any size containing any number of [Tweet objects](https://dev.twitter.com/overview/api/tweets) by making use of a callback function. This callback accepts a single `tweet object` as a parameter and should return the attribute(s) of the tweet that we require. The reason for using such an approach is to avoid loading the full list of tweets into memory, which may lead to an out of memory exception as the number of tweets grows.\n",
    "\n",
    "To determine whether a tweet is an _original tweet_ we must first check to see whether the tweet is a reply to another tweet and then check if the tweet is a retweet. As you can see in the callback function defined below, we do this using the `in_reply_to_status_id_str` attribute and the `retweeted_status` attribute of the tweet."
   ]
  },
  {
   "cell_type": "code",
   "execution_count": 8,
   "metadata": {
    "collapsed": false
   },
   "outputs": [
    {
     "name": "stdout",
     "output_type": "stream",
     "text": [
      "[Progress] \n",
      "[======================================================================================================================================================================================================================]\n",
      "[Progress] \n",
      "[===============================]\n"
     ]
    }
   ],
   "source": [
    "def get_original(tweet, search):\n",
    "    \"\"\"Identify original tweet\n",
    "    \n",
    "    :param tweet:  A tweet object\n",
    "    :param search: A list of str_ids to search\n",
    "    \n",
    "    :return: A twitter screen_name as a string\n",
    "    \"\"\"\n",
    "    \n",
    "    if (tweet[\"user\"][\"id_str\"] in search \n",
    "        and tweet[\"in_reply_to_status_id_str\"] is None \n",
    "        and \"retweeted_status\" not in tweet):\n",
    "            return tweet[\"user\"][\"screen_name\"]\n",
    "\n",
    "joi_originals = twiterate(lambda tweet : get_original(tweet, journalists))\n",
    "ooi_originals = twiterate(lambda tweet : get_original(tweet, organisations))"
   ]
  },
  {
   "cell_type": "code",
   "execution_count": 9,
   "metadata": {
    "collapsed": false
   },
   "outputs": [
    {
     "data": {
      "image/png": "[encoded data removed]",
      "text/plain": [
       "<matplotlib.figure.Figure at 0x7f3e46ad6f60>"
      ]
     },
     "metadata": {},
     "output_type": "display_data"
    }
   ],
   "source": [
    "pie(joi_originals, ooi_originals)"
   ]
  },
  {
   "cell_type": "code",
   "execution_count": 10,
   "metadata": {
    "collapsed": false
   },
   "outputs": [
    {
     "data": {
      "image/png": "[encoded data removed]",
      "text/plain": [
       "<matplotlib.figure.Figure at 0x7f3e44969048>"
      ]
     },
     "metadata": {},
     "output_type": "display_data"
    }
   ],
   "source": [
    "bar(joi_originals, ooi_originals, label=\"Original Tweets\")"
   ]
  },
  {
   "cell_type": "code",
   "execution_count": 11,
   "metadata": {
    "collapsed": true
   },
   "outputs": [],
   "source": [
    "with open('../data/output/joi_originals.json', 'w') as f:\n",
    "    json.dump(joi_originals, f)"
   ]
  },
  {
   "cell_type": "code",
   "execution_count": 12,
   "metadata": {
    "collapsed": true
   },
   "outputs": [],
   "source": [
    "with open('../data/output/ooi_originals.json', 'w') as f:\n",
    "    json.dump(ooi_originals, f)"
   ]
  },
  {
   "cell_type": "markdown",
   "metadata": {},
   "source": [
    "Next we will establish the number of retweets created by our users of interest throughout the period of data collection. To do this we define a new callback function that will this time only look at the `retweeted_status` of the tweet. According to the [Twitter documentation](https://dev.twitter.com/overview/api/tweets) a retweet can be identified by the presence of the `retweeted_status` attribute."
   ]
  },
  {
   "cell_type": "code",
   "execution_count": 13,
   "metadata": {
    "collapsed": false
   },
   "outputs": [
    {
     "name": "stdout",
     "output_type": "stream",
     "text": [
      "[Progress] \n",
      "[============================================================================================================================================================================================]\n",
      "[Progress] \n",
      "[========]\n"
     ]
    }
   ],
   "source": [
    "def get_retweet(tweet, search):\n",
    "    \"\"\"Identify a retweet\n",
    "    \n",
    "    :param tweet:  A tweet object\n",
    "    :param search: A list of str_ids to search\n",
    "    \n",
    "    :return: A twitter screen_name as a string\n",
    "    \"\"\"\n",
    "    \n",
    "    if (tweet[\"user\"][\"id_str\"] in search \n",
    "        and \"retweeted_status\" in tweet):\n",
    "            return tweet[\"user\"][\"screen_name\"]\n",
    "\n",
    "joi_retweets = twiterate(lambda tweet : get_retweet(tweet, journalists))\n",
    "ooi_retweets = twiterate(lambda tweet : get_retweet(tweet, organisations))"
   ]
  },
  {
   "cell_type": "code",
   "execution_count": 14,
   "metadata": {
    "collapsed": false
   },
   "outputs": [
    {
     "data": {
      "image/png": "[encoded data removed]",
      "text/plain": [
       "<matplotlib.figure.Figure at 0x7f3e44f7a5c0>"
      ]
     },
     "metadata": {},
     "output_type": "display_data"
    }
   ],
   "source": [
    "pie(joi_retweets, ooi_retweets)"
   ]
  },
  {
   "cell_type": "code",
   "execution_count": 15,
   "metadata": {
    "collapsed": false
   },
   "outputs": [
    {
     "data": {
      "image/png": "[encoded data removed]",
      "text/plain": [
       "<matplotlib.figure.Figure at 0x7f3e44f88a20>"
      ]
     },
     "metadata": {},
     "output_type": "display_data"
    }
   ],
   "source": [
    "bar(joi_retweets, ooi_retweets, label=\"Retweets\")"
   ]
  },
  {
   "cell_type": "code",
   "execution_count": 16,
   "metadata": {
    "collapsed": true
   },
   "outputs": [],
   "source": [
    "with open('../data/output/joi_retweets.json', 'w') as f:\n",
    "    json.dump(joi_retweets, f)"
   ]
  },
  {
   "cell_type": "code",
   "execution_count": 17,
   "metadata": {
    "collapsed": true
   },
   "outputs": [],
   "source": [
    "with open('../data/output/ooi_retweets.json', 'w') as f:\n",
    "    json.dump(ooi_retweets, f)"
   ]
  },
  {
   "cell_type": "markdown",
   "metadata": {},
   "source": [
    "Similar to the process above, we will now determine the number of direct replies to other tweets were created during the period of data collection. To this we will define a callback that examines the `in_reply_to_status_id_str` attribute of a tweet. If the attribute is not `None` then we can classify it as a reply."
   ]
  },
  {
   "cell_type": "code",
   "execution_count": 18,
   "metadata": {
    "collapsed": false
   },
   "outputs": [
    {
     "name": "stdout",
     "output_type": "stream",
     "text": [
      "[Progress] \n",
      "[===============================================================================================================================]\n",
      "[Progress] \n",
      "[]\n"
     ]
    }
   ],
   "source": [
    "def get_reply(tweet, search):\n",
    "    \"\"\"Identify a reply\n",
    "    \n",
    "    :param tweet: A tweet object\n",
    "    :param search: A list of str_ids to search\n",
    "    \n",
    "    :return: A twitter screen_name as a string\n",
    "    \"\"\"\n",
    "    \n",
    "    if (tweet[\"user\"][\"id_str\"] in search \n",
    "        and tweet[\"in_reply_to_status_id_str\"] is not None):\n",
    "            return tweet[\"user\"][\"screen_name\"]\n",
    "\n",
    "joi_replies = twiterate(lambda tweet : get_reply(tweet, journalists))\n",
    "ooi_replies = twiterate(lambda tweet : get_reply(tweet, organisations))"
   ]
  },
  {
   "cell_type": "code",
   "execution_count": 19,
   "metadata": {
    "collapsed": false
   },
   "outputs": [
    {
     "data": {
      "image/png": "[encoded data removed]",
      "text/plain": [
       "<matplotlib.figure.Figure at 0x7f3e446ed3c8>"
      ]
     },
     "metadata": {},
     "output_type": "display_data"
    }
   ],
   "source": [
    "pie(joi_replies, ooi_replies)"
   ]
  },
  {
   "cell_type": "code",
   "execution_count": 20,
   "metadata": {
    "collapsed": false
   },
   "outputs": [
    {
     "data": {
      "image/png": "[encoded data removed]",
      "text/plain": [
       "<matplotlib.figure.Figure at 0x7f3e44c9db00>"
      ]
     },
     "metadata": {},
     "output_type": "display_data"
    }
   ],
   "source": [
    "bar(joi_replies, ooi_replies, label=\"Replies\")"
   ]
  },
  {
   "cell_type": "code",
   "execution_count": 21,
   "metadata": {
    "collapsed": false
   },
   "outputs": [],
   "source": [
    "with open('../data/output/joi_replies.json', 'w') as f:\n",
    "    json.dump(joi_replies, f)"
   ]
  },
  {
   "cell_type": "code",
   "execution_count": 22,
   "metadata": {
    "collapsed": true
   },
   "outputs": [],
   "source": [
    "with open('../data/output/ooi_replies.json', 'w') as f:\n",
    "    json.dump(ooi_replies, f)"
   ]
  },
  {
   "cell_type": "markdown",
   "metadata": {},
   "source": [
    "\n",
    "Now that we have an idea of how active our users of interest are on social media, we thought it would be interesting to extract the most common content shared throughout the data collection period. Below we have extracted the top 10 links from all tweets in the dataset as well as the top 10 hashtags.\n",
    "\n",
    "To extract the link from each tweet in the dataset we again look to the `twiterate` function. We must therefore define an appropriate callback to examine each tweet. Below you will notice that we are examining the `entities` attribute of the tweet to extract the `expanded_url`. For more information on how Twitter stores its tweet entities please see the [entities documentation](https://dev.twitter.com/overview/api/entities)."
   ]
  },
  {
   "cell_type": "code",
   "execution_count": 23,
   "metadata": {
    "collapsed": false
   },
   "outputs": [
    {
     "name": "stdout",
     "output_type": "stream",
     "text": [
      "[Progress] \n",
      "[=======================================================================================================================================================================================================================================================================================================================================================================================================================================================================================================================================================================================================================================================================================================================================================================================================================================================================================================================================================================================================================================================================================================================================================================================================================================================================================================================================================================================================================================================================================================================================================================================================================================================================================================================================================================================================================================================================================================================================================================================================================================================================================================================================================================================================================================================================================================================================================================================================================================================================================================================================================================================================================================================================================================================================================================================================================================================================================================================================================================================================================================================================================================================================================================================================================================================================================================================================================================================================================================================================================================================================================================================================================================================================================================================================================================================================================================================================================================================================================================================================================================================================================================================================================================================================================================================================================================================================================================================================================================================================================================================================================================================================================================================================================================================================================================================================================================================================================================================================================================================================================================================================================================================================================================================================================================================================================================================================================================================================================================================]\n"
     ]
    }
   ],
   "source": [
    "def get_url(tweet):\n",
    "    \"\"\"Extract urls from a tweet\n",
    "    \n",
    "    :param tweet: A tweet object\n",
    "    :return: A url as a string\n",
    "    \"\"\"\n",
    "    \n",
    "    for url in tweet[\"entities\"][\"urls\"]:\n",
    "        return url[\"expanded_url\"]\n",
    "\n",
    "urls = twiterate(get_url)"
   ]
  },
  {
   "cell_type": "markdown",
   "metadata": {},
   "source": [
    "Once we have extracted all of the links we must then establish the top 10 links that were shared and collect their associated title (i.e. the HTML `<title>` tag associated with that webpage). To do this we are going to define a new function `get_title` which we will call for the 10 most common links. This function will load the webpage using the provided link and extract the contents of its `<title>` tag."
   ]
  },
  {
   "cell_type": "code",
   "execution_count": 24,
   "metadata": {
    "collapsed": true
   },
   "outputs": [],
   "source": [
    "def get_title(url):\n",
    "    \"\"\"Get the contents of title tag from\n",
    "    the webpage at the link\n",
    "    \n",
    "    :param url: String containing a link\n",
    "    :return: String containing page title\n",
    "    \"\"\"\n",
    "    \n",
    "    # get title text\n",
    "    html = requests.get(url)\n",
    "    page = bs4.BeautifulSoup(html.text, \"html.parser\")\n",
    "    title = page.title.string if page.title != None else \"\"\n",
    "    # remove markdown grammar\n",
    "    title = re.sub(r\"\\r|\\n|\\||\\s+\", \" \", title)\n",
    "    # remove leading & trailing whitespace\n",
    "    title = title.lstrip().rstrip()\n",
    "    \n",
    "    return title"
   ]
  },
  {
   "cell_type": "code",
   "execution_count": 25,
   "metadata": {
    "collapsed": false
   },
   "outputs": [],
   "source": [
    "lc = collections.Counter(urls)\n",
    "mcl = [(url, get_title(url), occ) \n",
    "       for (url, occ) in lc.most_common(10)]"
   ]
  },
  {
   "cell_type": "code",
   "execution_count": 26,
   "metadata": {
    "collapsed": false
   },
   "outputs": [
    {
     "data": {
      "text/html": [
       "<div>\n",
       "<table border=\"1\" class=\"dataframe\">\n",
       "  <thead>\n",
       "    <tr style=\"text-align: right;\">\n",
       "      <th></th>\n",
       "      <th>Link</th>\n",
       "      <th>Title</th>\n",
       "      <th>Occurances</th>\n",
       "    </tr>\n",
       "  </thead>\n",
       "  <tbody>\n",
       "    <tr>\n",
       "      <th>1</th>\n",
       "      <td>http://bbc.in/264XBZu</td>\n",
       "      <td>Corbyn ballot challenge ruling &amp; Boris Johnson...</td>\n",
       "      <td>23546</td>\n",
       "    </tr>\n",
       "    <tr>\n",
       "      <th>2</th>\n",
       "      <td>http://bbc.co.uk/chilcot</td>\n",
       "      <td>The Chilcot report - BBC News</td>\n",
       "      <td>12441</td>\n",
       "    </tr>\n",
       "    <tr>\n",
       "      <th>3</th>\n",
       "      <td>http://bbc.in/29Ks0ns</td>\n",
       "      <td>As it happened: Turkey coup - BBC News</td>\n",
       "      <td>12430</td>\n",
       "    </tr>\n",
       "    <tr>\n",
       "      <th>4</th>\n",
       "      <td>http://bbc.in/29Hmy2f</td>\n",
       "      <td>Nice attack: Dozens killed during Bastille Day...</td>\n",
       "      <td>10140</td>\n",
       "    </tr>\n",
       "    <tr>\n",
       "      <th>5</th>\n",
       "      <td>http://dailym.ai/2aeYeXq</td>\n",
       "      <td>Victoria's new road safety ambassador Graham w...</td>\n",
       "      <td>8080</td>\n",
       "    </tr>\n",
       "    <tr>\n",
       "      <th>6</th>\n",
       "      <td>http://bbc.in/29IZoJa</td>\n",
       "      <td>Germany axe attack: Assault on train in Wuerzb...</td>\n",
       "      <td>6459</td>\n",
       "    </tr>\n",
       "    <tr>\n",
       "      <th>7</th>\n",
       "      <td>http://bbc.in/29jGj1l</td>\n",
       "      <td>Medina explosion: Suicide bombing near Saudi h...</td>\n",
       "      <td>6409</td>\n",
       "    </tr>\n",
       "    <tr>\n",
       "      <th>8</th>\n",
       "      <td>http://bbc.in/2a10eGn</td>\n",
       "      <td>Kabul explosion: Islamic State 'admits attack ...</td>\n",
       "      <td>6253</td>\n",
       "    </tr>\n",
       "    <tr>\n",
       "      <th>9</th>\n",
       "      <td>http://bbc.in/29OxgqY</td>\n",
       "      <td>Corbyn ballot challenge ruling &amp; Boris Johnson...</td>\n",
       "      <td>5483</td>\n",
       "    </tr>\n",
       "    <tr>\n",
       "      <th>10</th>\n",
       "      <td>http://bbc.in/2a6az1f</td>\n",
       "      <td>German-Iranian teenager behind Munich shooting...</td>\n",
       "      <td>5215</td>\n",
       "    </tr>\n",
       "  </tbody>\n",
       "</table>\n",
       "</div>"
      ],
      "text/plain": [
       "                        Link  \\\n",
       "1      http://bbc.in/264XBZu   \n",
       "2   http://bbc.co.uk/chilcot   \n",
       "3      http://bbc.in/29Ks0ns   \n",
       "4      http://bbc.in/29Hmy2f   \n",
       "5   http://dailym.ai/2aeYeXq   \n",
       "6      http://bbc.in/29IZoJa   \n",
       "7      http://bbc.in/29jGj1l   \n",
       "8      http://bbc.in/2a10eGn   \n",
       "9      http://bbc.in/29OxgqY   \n",
       "10     http://bbc.in/2a6az1f   \n",
       "\n",
       "                                                Title  Occurances  \n",
       "1   Corbyn ballot challenge ruling & Boris Johnson...       23546  \n",
       "2                       The Chilcot report - BBC News       12441  \n",
       "3              As it happened: Turkey coup - BBC News       12430  \n",
       "4   Nice attack: Dozens killed during Bastille Day...       10140  \n",
       "5   Victoria's new road safety ambassador Graham w...        8080  \n",
       "6   Germany axe attack: Assault on train in Wuerzb...        6459  \n",
       "7   Medina explosion: Suicide bombing near Saudi h...        6409  \n",
       "8   Kabul explosion: Islamic State 'admits attack ...        6253  \n",
       "9   Corbyn ballot challenge ruling & Boris Johnson...        5483  \n",
       "10  German-Iranian teenager behind Munich shooting...        5215  "
      ]
     },
     "execution_count": 26,
     "metadata": {},
     "output_type": "execute_result"
    }
   ],
   "source": [
    "pd.DataFrame(mcl, \n",
    "             range(1, len(mcl) + 1), \n",
    "             ['Link', 'Title', 'Occurances'])"
   ]
  },
  {
   "cell_type": "code",
   "execution_count": 27,
   "metadata": {
    "collapsed": false
   },
   "outputs": [
    {
     "data": {
      "text/html": [
       "<div>\n",
       "<table border=\"1\" class=\"dataframe\">\n",
       "  <thead>\n",
       "    <tr style=\"text-align: right;\">\n",
       "      <th></th>\n",
       "      <th>Links</th>\n",
       "    </tr>\n",
       "  </thead>\n",
       "  <tbody>\n",
       "    <tr>\n",
       "      <th>Total</th>\n",
       "      <td>5289657</td>\n",
       "    </tr>\n",
       "    <tr>\n",
       "      <th>Unique</th>\n",
       "      <td>334172</td>\n",
       "    </tr>\n",
       "  </tbody>\n",
       "</table>\n",
       "</div>"
      ],
      "text/plain": [
       "          Links\n",
       "Total   5289657\n",
       "Unique   334172"
      ]
     },
     "execution_count": 27,
     "metadata": {},
     "output_type": "execute_result"
    }
   ],
   "source": [
    "pd.DataFrame([len(urls), len(set(urls))], \n",
    "             ['Total', 'Unique'], \n",
    "             ['Links'])"
   ]
  },
  {
   "cell_type": "markdown",
   "metadata": {},
   "source": [
    "Next we will extract the top 10 hashtags from the dataset. To do this we simply look at the hashtag attribute within the entities object of the tweet and count the occurences of each hashtag."
   ]
  },
  {
   "cell_type": "code",
   "execution_count": 28,
   "metadata": {
    "collapsed": false
   },
   "outputs": [
    {
     "name": "stdout",
     "output_type": "stream",
     "text": [
      "[Progress] \n",
      "[===========================================================================================================================================================================================================================================================================================================================================================================================================================================================================================================================================================================================================================================================================================================================================================================================================================================================================================================================================================================================================================================================================================================================================================================================================================================================================================================================================================================================================================================================================================================================================================================================================================================================================================================================================================================================================================]\n"
     ]
    }
   ],
   "source": [
    "def get_hashtag(tweet):\n",
    "    \"\"\"Extract hashtags from a tweet\n",
    "    \n",
    "    :param tweet: A tweet object\n",
    "    :return: A list of hashtags\n",
    "    \"\"\"\n",
    "    \n",
    "    for hashtags in tweet[\"entities\"][\"hashtags\"]:\n",
    "        return hashtags[\"text\"]\n",
    "    \n",
    "hashtags = twiterate(get_hashtag)\n",
    "hc = collections.Counter(hashtags)\n",
    "mch = [(\"#\" + key, value) \n",
    "       for (key, value) in hc.most_common(10)]"
   ]
  },
  {
   "cell_type": "code",
   "execution_count": 29,
   "metadata": {
    "collapsed": false
   },
   "outputs": [
    {
     "data": {
      "image/png": "[encoded data removed]",
      "text/plain": [
       "<matplotlib.figure.Figure at 0x7f3e1994eb38>"
      ]
     },
     "metadata": {},
     "output_type": "display_data"
    }
   ],
   "source": [
    "labels, y = zip(*mch)\n",
    "x = range(len(labels))\n",
    "\n",
    "plt.bar(x, y, alpha=0.5)\n",
    "plt.xticks(x, labels, rotation='90')\n",
    "plt.ylabel(\"Tweets\")\n",
    "plt.show()"
   ]
  },
  {
   "cell_type": "markdown",
   "metadata": {},
   "source": [
    "While the data above might not provide us with any insight into the activity of our users of interest, it clearly highlights the discussions that took place during our monitoring window. With some further analysis, such as grouping journalists by hashtags, we may be able to build up a detailed picture about what exactly journalists are talking about and whether journalists stick to their domain of reporting or whether there is some cross over."
   ]
  },
  {
   "cell_type": "code",
   "execution_count": null,
   "metadata": {
    "collapsed": true
   },
   "outputs": [],
   "source": []
  }
 ],
 "metadata": {
  "kernelspec": {
   "display_name": "Python 3",
   "language": "python",
   "name": "python3"
  },
  "language_info": {
   "codemirror_mode": {
    "name": "ipython",
    "version": 3
   },
   "file_extension": ".py",
   "mimetype": "text/x-python",
   "name": "python",
   "nbconvert_exporter": "python",
   "pygments_lexer": "ipython3",
   "version": "3.5.1+"
  },
  "widgets": {
   "state": {},
   "version": "1.1.2"
  }
 },
 "nbformat": 4,
 "nbformat_minor": 0
}
