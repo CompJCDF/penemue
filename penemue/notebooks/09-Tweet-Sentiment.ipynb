{
 "cells": [
  {
   "cell_type": "code",
   "execution_count": null,
   "metadata": {
    "collapsed": true
   },
   "outputs": [],
   "source": [
    "import json\n",
    "import sys\n",
    "import os\n",
    "import pandas as pd\n",
    "from textblob import TextBlob\n",
    "\n",
    "# add penemue to path\n",
    "sys.path.append(os.path.abspath(os.path.join(os.getcwd(), os.pardir)))\n",
    "from utils import twiterate"
   ]
  },
  {
   "cell_type": "code",
   "execution_count": null,
   "metadata": {
    "collapsed": true
   },
   "outputs": [],
   "source": [
    "def get_original(tweet, search):\n",
    "    if (tweet[\"user\"][\"id_str\"] in search \n",
    "        and tweet[\"in_reply_to_status_id_str\"] is None \n",
    "        and \"retweeted_status\" not in tweet):\n",
    "            return tweet[\"text\"]"
   ]
  },
  {
   "cell_type": "code",
   "execution_count": null,
   "metadata": {
    "collapsed": true
   },
   "outputs": [],
   "source": [
    "def sentiment(tweets):\n",
    "    \"\"\"Get the number of positive, neutral and\n",
    "    negative tweets in a sample.\"\"\"\n",
    "    \n",
    "    polarity = [TextBlob(text).sentiment.polarity\n",
    "                for text in tweets]\n",
    "\n",
    "    positive = len([x \n",
    "                    for x in polarity\n",
    "                         if x > 0])\n",
    "\n",
    "    neutral = len([x \n",
    "                  for x in polarity\n",
    "                      if x == 0])\n",
    "\n",
    "    negative = len([x \n",
    "                   for x in polarity\n",
    "                       if x < 0])\n",
    "    \n",
    "    return [positive, neutral, negative]"
   ]
  },
  {
   "cell_type": "code",
   "execution_count": null,
   "metadata": {
    "collapsed": true
   },
   "outputs": [],
   "source": [
    "journalists = json.load(open('../data/output/journalist_id_strs.json'))"
   ]
  },
  {
   "cell_type": "code",
   "execution_count": null,
   "metadata": {
    "collapsed": false
   },
   "outputs": [],
   "source": [
    "joi_originals = twiterate(lambda tweet : get_original(tweet, journalists))"
   ]
  },
  {
   "cell_type": "code",
   "execution_count": null,
   "metadata": {
    "collapsed": false
   },
   "outputs": [],
   "source": [
    "pd.DataFrame([sentiment(joi_originals)], \n",
    "             columns=['Positive', 'Neutral', 'Negative'])"
   ]
  },
  {
   "cell_type": "code",
   "execution_count": null,
   "metadata": {
    "collapsed": true
   },
   "outputs": [],
   "source": [
    "organisations = json.load(open('../data/output/organisation_id_strs.json'))"
   ]
  },
  {
   "cell_type": "code",
   "execution_count": null,
   "metadata": {
    "collapsed": false
   },
   "outputs": [],
   "source": [
    "ooi_originals = twiterate(lambda tweet : get_original(tweet, organisations))"
   ]
  },
  {
   "cell_type": "code",
   "execution_count": null,
   "metadata": {
    "collapsed": false
   },
   "outputs": [],
   "source": [
    "pd.DataFrame([sentiment(ooi_originals)], \n",
    "             columns=['Positive', 'Neutral', 'Negative'])"
   ]
  }
 ],
 "metadata": {
  "kernelspec": {
   "display_name": "Python 3",
   "language": "python",
   "name": "python3"
  },
  "language_info": {
   "codemirror_mode": {
    "name": "ipython",
    "version": 3
   },
   "file_extension": ".py",
   "mimetype": "text/x-python",
   "name": "python",
   "nbconvert_exporter": "python",
   "pygments_lexer": "ipython3",
   "version": "3.5.1"
  },
  "widgets": {
   "state": {},
   "version": "1.1.2"
  }
 },
 "nbformat": 4,
 "nbformat_minor": 0
}
