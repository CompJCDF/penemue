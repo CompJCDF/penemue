{
 "cells": [
  {
   "cell_type": "code",
   "execution_count": 1,
   "metadata": {
    "collapsed": true
   },
   "outputs": [],
   "source": [
    "import json\n",
    "import sys\n",
    "import os\n",
    "import collections\n",
    "import csv\n",
    "\n",
    "# add penemue to path\n",
    "sys.path.append(os.path.abspath(os.path.join(os.getcwd(), os.pardir)))\n",
    "from utils import twiterate"
   ]
  },
  {
   "cell_type": "code",
   "execution_count": 2,
   "metadata": {
    "collapsed": false
   },
   "outputs": [],
   "source": [
    "def get_edge(tweet, search):\n",
    "    if tweet['user']['id_str'] in search:\n",
    "        if ('retweeted_status' not in tweet\n",
    "            and tweet['in_reply_to_status_id_str'] is not None\n",
    "            and tweet['in_reply_to_screen_name'] is not None):\n",
    "                return (tweet[\"user\"][\"screen_name\"], \n",
    "                        tweet[\"in_reply_to_screen_name\"])"
   ]
  },
  {
   "cell_type": "code",
   "execution_count": 3,
   "metadata": {
    "collapsed": false
   },
   "outputs": [],
   "source": [
    "journalists = json.load(open('../data/output/journalist_id_strs.json'))\n",
    "organisations = json.load(open('../data/output/organisation_id_strs.json'))\n",
    "ids = journalists + organisations"
   ]
  },
  {
   "cell_type": "code",
   "execution_count": null,
   "metadata": {
    "collapsed": false
   },
   "outputs": [],
   "source": [
    "edges = [edge \n",
    "         for edge in twiterate(lambda t : get_edge(t, ids))]"
   ]
  },
  {
   "cell_type": "code",
   "execution_count": 5,
   "metadata": {
    "collapsed": false
   },
   "outputs": [],
   "source": [
    "edges = [[nodes[0], nodes[1], weight] \n",
    "         for nodes, weight in collections.Counter(edges).items()]"
   ]
  },
  {
   "cell_type": "code",
   "execution_count": 6,
   "metadata": {
    "collapsed": false
   },
   "outputs": [
    {
     "name": "stdout",
     "output_type": "stream",
     "text": [
      "65870\n"
     ]
    }
   ],
   "source": [
    "print(len(edges))"
   ]
  },
  {
   "cell_type": "code",
   "execution_count": 7,
   "metadata": {
    "collapsed": true
   },
   "outputs": [],
   "source": [
    "with open(\"../data/output/reply_edges.csv\", 'w') as f:\n",
    "    w = csv.writer(f)\n",
    "    w.writerow([\"source\", \"target\", \"weight\"])\n",
    "    w.writerows(edges)"
   ]
  }
 ],
 "metadata": {
  "kernelspec": {
   "display_name": "Python 3",
   "language": "python",
   "name": "python3"
  },
  "language_info": {
   "codemirror_mode": {
    "name": "ipython",
    "version": 3
   },
   "file_extension": ".py",
   "mimetype": "text/x-python",
   "name": "python",
   "nbconvert_exporter": "python",
   "pygments_lexer": "ipython3",
   "version": "3.5.1+"
  },
  "widgets": {
   "state": {},
   "version": "1.1.2"
  }
 },
 "nbformat": 4,
 "nbformat_minor": 0
}
