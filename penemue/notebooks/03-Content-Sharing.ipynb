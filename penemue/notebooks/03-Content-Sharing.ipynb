{
 "cells": [
  {
   "cell_type": "code",
   "execution_count": null,
   "metadata": {
    "collapsed": true
   },
   "outputs": [],
   "source": [
    "import json\n",
    "import sys\n",
    "import os\n",
    "import matplotlib.pyplot as plt\n",
    "import pandas as pd\n",
    "import collections\n",
    "\n",
    "# add penemue to path\n",
    "sys.path.append(os.path.abspath(os.path.join(os.getcwd(), os.pardir)))\n",
    "from utils import twiterate\n",
    "from utils import limiter\n",
    "\n",
    "%matplotlib inline"
   ]
  },
  {
   "cell_type": "code",
   "execution_count": null,
   "metadata": {
    "collapsed": false
   },
   "outputs": [],
   "source": [
    "def contains_entities(t, search):\n",
    "    if t['user']['id_str'] in search:\n",
    "        \n",
    "        result = []\n",
    "    \n",
    "        if 'urls' in t['entities']:\n",
    "            if len(t['entities']['urls']) > 0:\n",
    "                result.append('url')\n",
    "                \n",
    "        if 'media' in t['entities']:\n",
    "            if len(t['entities']['media']) > 0:\n",
    "                for e in t['entities']['media']:\n",
    "                    if e['type'] == 'photo':\n",
    "                        result.append('photo')\n",
    "                \n",
    "        if 'hashtags' in t['entities']:\n",
    "            if len(t['entities']['hashtags']) > 0:\n",
    "                result.append('hashtag')\n",
    "                \n",
    "        if 'extended_entities' in t['entities']:\n",
    "            if len(t['entities']['extended_entities']) > 0:\n",
    "                for e in t['entities']['extended_entities']:\n",
    "                    if e['type'] == 'video':\n",
    "                        result.append('video')\n",
    "                \n",
    "        return result"
   ]
  },
  {
   "cell_type": "code",
   "execution_count": null,
   "metadata": {
    "collapsed": false
   },
   "outputs": [],
   "source": [
    "with open('../data/output/journalist_id_strs.json') as f:\n",
    "    joi = json.load(f)\n",
    "    joi_callback = lambda t : contains_entities(t, joi)\n",
    "    joi_entities = collections.Counter([item \n",
    "                                        for sublist in twiterate(joi_callback) \n",
    "                                        for item in sublist])"
   ]
  },
  {
   "cell_type": "code",
   "execution_count": null,
   "metadata": {
    "collapsed": false
   },
   "outputs": [],
   "source": [
    "with open('../data/output/organisation_id_strs.json') as f:\n",
    "    ooi = json.load(f)\n",
    "    ooi_callback = lambda t : contains_entities(t, ooi)\n",
    "    ooi_entities = collections.Counter([item \n",
    "                                        for sublist in twiterate(ooi_callback) \n",
    "                                        for item in sublist])"
   ]
  },
  {
   "cell_type": "code",
   "execution_count": 8,
   "metadata": {
    "collapsed": false
   },
   "outputs": [
    {
     "data": {
      "text/html": [
       "<div>\n",
       "<table border=\"1\" class=\"dataframe\">\n",
       "  <thead>\n",
       "    <tr style=\"text-align: right;\">\n",
       "      <th></th>\n",
       "      <th>JOI Tweets</th>\n",
       "    </tr>\n",
       "  </thead>\n",
       "  <tbody>\n",
       "    <tr>\n",
       "      <th>hashtag</th>\n",
       "      <td>88749</td>\n",
       "    </tr>\n",
       "    <tr>\n",
       "      <th>photo</th>\n",
       "      <td>107558</td>\n",
       "    </tr>\n",
       "    <tr>\n",
       "      <th>url</th>\n",
       "      <td>232526</td>\n",
       "    </tr>\n",
       "  </tbody>\n",
       "</table>\n",
       "</div>"
      ],
      "text/plain": [
       "         JOI Tweets\n",
       "hashtag       88749\n",
       "photo        107558\n",
       "url          232526"
      ]
     },
     "execution_count": 8,
     "metadata": {},
     "output_type": "execute_result"
    }
   ],
   "source": [
    "pd.DataFrame(list(joi_entities.values()), \n",
    "             list(joi_entities.keys()), \n",
    "             ['JOI Tweets'])"
   ]
  },
  {
   "cell_type": "code",
   "execution_count": 9,
   "metadata": {
    "collapsed": false
   },
   "outputs": [
    {
     "data": {
      "text/html": [
       "<div>\n",
       "<table border=\"1\" class=\"dataframe\">\n",
       "  <thead>\n",
       "    <tr style=\"text-align: right;\">\n",
       "      <th></th>\n",
       "      <th>OOI Tweets</th>\n",
       "    </tr>\n",
       "  </thead>\n",
       "  <tbody>\n",
       "    <tr>\n",
       "      <th>hashtag</th>\n",
       "      <td>2305</td>\n",
       "    </tr>\n",
       "    <tr>\n",
       "      <th>photo</th>\n",
       "      <td>14208</td>\n",
       "    </tr>\n",
       "    <tr>\n",
       "      <th>url</th>\n",
       "      <td>37760</td>\n",
       "    </tr>\n",
       "  </tbody>\n",
       "</table>\n",
       "</div>"
      ],
      "text/plain": [
       "         OOI Tweets\n",
       "hashtag        2305\n",
       "photo         14208\n",
       "url           37760"
      ]
     },
     "execution_count": 9,
     "metadata": {},
     "output_type": "execute_result"
    }
   ],
   "source": [
    "pd.DataFrame(list(ooi_entities.values()), \n",
    "             list(ooi_entities.keys()), \n",
    "             ['OOI Tweets'])"
   ]
  },
  {
   "cell_type": "code",
   "execution_count": null,
   "metadata": {
    "collapsed": true
   },
   "outputs": [],
   "source": []
  }
 ],
 "metadata": {
  "kernelspec": {
   "display_name": "Python 3",
   "language": "python",
   "name": "python3"
  },
  "language_info": {
   "codemirror_mode": {
    "name": "ipython",
    "version": 3
   },
   "file_extension": ".py",
   "mimetype": "text/x-python",
   "name": "python",
   "nbconvert_exporter": "python",
   "pygments_lexer": "ipython3",
   "version": "3.5.1+"
  },
  "widgets": {
   "state": {},
   "version": "1.1.2"
  }
 },
 "nbformat": 4,
 "nbformat_minor": 0
}
