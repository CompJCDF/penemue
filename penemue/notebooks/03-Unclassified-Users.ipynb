{
 "cells": [
  {
   "cell_type": "code",
   "execution_count": 1,
   "metadata": {
    "collapsed": false
   },
   "outputs": [],
   "source": [
    "import json\n",
    "import sys\n",
    "import os\n",
    "\n",
    "sys.path.append(os.path.abspath(os.path.join(os.getcwd(), os.pardir)))\n",
    "from utils import twiterate\n",
    "from utils import lookup"
   ]
  },
  {
   "cell_type": "code",
   "execution_count": 2,
   "metadata": {
    "collapsed": true
   },
   "outputs": [],
   "source": [
    "def get_known_user(t):\n",
    "    \"\"\"Return only the id_str, description for users.\n",
    "    \n",
    "    :param t: A tweet object\n",
    "    :return:  An id_str (string)\n",
    "    \"\"\"\n",
    "    \n",
    "    return t['user']['id_str']"
   ]
  },
  {
   "cell_type": "code",
   "execution_count": 3,
   "metadata": {
    "collapsed": true
   },
   "outputs": [],
   "source": [
    "def get_unknown_user(t):\n",
    "    \"\"\"Extract list of user id_strs from \n",
    "    mentions and replies\n",
    "    \n",
    "    :param t: A tweet object\n",
    "    :return:  List of id_strs (strings)\n",
    "    \"\"\"\n",
    "    \n",
    "    if t['in_reply_to_user_id_str']:\n",
    "        return [t['in_reply_to_user_id_str']]\n",
    "    \n",
    "    if len(t['entities']['user_mentions']) > 0:\n",
    "        return [m['id_str'] for m in t['entities']['user_mentions']]"
   ]
  },
  {
   "cell_type": "code",
   "execution_count": 4,
   "metadata": {
    "collapsed": false
   },
   "outputs": [
    {
     "name": "stdout",
     "output_type": "stream",
     "text": [
      "[Progress] \n",
      "[=======]\n"
     ]
    }
   ],
   "source": [
    "known = list(set(twiterate(get_known_user)))"
   ]
  },
  {
   "cell_type": "code",
   "execution_count": 5,
   "metadata": {
    "collapsed": false
   },
   "outputs": [
    {
     "name": "stdout",
     "output_type": "stream",
     "text": [
      "[Progress] \n",
      "[=======]\n"
     ]
    }
   ],
   "source": [
    "unknown = list(set([item\n",
    "                    for sublist in twiterate(get_unknown_user)\n",
    "                    for item in sublist\n",
    "                    if item not in known]))"
   ]
  },
  {
   "cell_type": "code",
   "execution_count": 6,
   "metadata": {
    "collapsed": false
   },
   "outputs": [
    {
     "name": "stdout",
     "output_type": "stream",
     "text": [
      "4803\n",
      "737\n"
     ]
    }
   ],
   "source": [
    "print(len(known))\n",
    "print(len(unknown))"
   ]
  },
  {
   "cell_type": "code",
   "execution_count": 7,
   "metadata": {
    "collapsed": false,
    "scrolled": false
   },
   "outputs": [],
   "source": [
    "for i in range(0, 200, 100):\n",
    "    with open('../data/output/unclassified.json', 'w') as f:\n",
    "        json.dump([{'id_str': user['id_str'], 'description': user['description']}\n",
    "                   for user in lookup(','.join(unknown[i : i + 100]))], f)"
   ]
  }
 ],
 "metadata": {
  "kernelspec": {
   "display_name": "Python 3",
   "language": "python",
   "name": "python3"
  },
  "language_info": {
   "codemirror_mode": {
    "name": "ipython",
    "version": 3
   },
   "file_extension": ".py",
   "mimetype": "text/x-python",
   "name": "python",
   "nbconvert_exporter": "python",
   "pygments_lexer": "ipython3",
   "version": "3.5.1"
  },
  "widgets": {
   "state": {},
   "version": "1.1.2"
  }
 },
 "nbformat": 4,
 "nbformat_minor": 0
}
