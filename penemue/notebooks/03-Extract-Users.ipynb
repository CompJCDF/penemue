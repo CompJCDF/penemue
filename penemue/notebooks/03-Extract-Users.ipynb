{
 "cells": [
  {
   "cell_type": "code",
   "execution_count": 8,
   "metadata": {
    "collapsed": false
   },
   "outputs": [],
   "source": [
    "import json\n",
    "import sys\n",
    "import os\n",
    "\n",
    "sys.path.append(os.path.abspath(os.path.join(os.getcwd(), os.pardir)))\n",
    "from utils import twiterate\n",
    "from utils import lookup"
   ]
  },
  {
   "cell_type": "code",
   "execution_count": 9,
   "metadata": {
    "collapsed": true
   },
   "outputs": [],
   "source": [
    "def get_known_user(t):\n",
    "    \"\"\"Return only the id_str, description for users.\n",
    "    \n",
    "    :param t: A user id_str and description\n",
    "    :return:  An id_str (string)\n",
    "    \"\"\"\n",
    "    \n",
    "    return (t['user']['id_str'], \n",
    "            t['user']['description'] if t['user']['description'] else '')"
   ]
  },
  {
   "cell_type": "code",
   "execution_count": 10,
   "metadata": {
    "collapsed": true
   },
   "outputs": [],
   "source": [
    "def get_unknown_user(t):\n",
    "    \"\"\"Extract list of user id_strs from \n",
    "    mentions and replies\n",
    "    \n",
    "    :param t: A tweet object\n",
    "    :return:  List of id_strs (strings)\n",
    "    \"\"\"\n",
    "    \n",
    "    if t['in_reply_to_user_id_str']:\n",
    "        return [t['in_reply_to_user_id_str']]\n",
    "    \n",
    "    if len(t['entities']['user_mentions']) > 0:\n",
    "        return [m['id_str'] for m in t['entities']['user_mentions']]"
   ]
  },
  {
   "cell_type": "code",
   "execution_count": 11,
   "metadata": {
    "collapsed": false
   },
   "outputs": [
    {
     "name": "stdout",
     "output_type": "stream",
     "text": [
      "[Progress] \n",
      "[=======]\n",
      "4810\n"
     ]
    }
   ],
   "source": [
    "known = list(set(twiterate(get_known_user)))\n",
    "print(len(known))"
   ]
  },
  {
   "cell_type": "code",
   "execution_count": 12,
   "metadata": {
    "collapsed": false
   },
   "outputs": [
    {
     "name": "stdout",
     "output_type": "stream",
     "text": [
      "[Progress] \n",
      "[=======]\n",
      "903\n"
     ]
    }
   ],
   "source": [
    "unknown = list(set([item\n",
    "                    for sublist in twiterate(get_unknown_user)\n",
    "                    for item in sublist\n",
    "                    if item not in known]))\n",
    "\n",
    "print(len(unknown))"
   ]
  },
  {
   "cell_type": "markdown",
   "metadata": {},
   "source": [
    "Write as line delimitted JSON."
   ]
  },
  {
   "cell_type": "code",
   "execution_count": 13,
   "metadata": {
    "collapsed": false
   },
   "outputs": [
    {
     "name": "stdout",
     "output_type": "stream",
     "text": [
      "Written to file.\n"
     ]
    }
   ],
   "source": [
    "with open('../data/output/users.json', 'w') as f:\n",
    "    for user in known:\n",
    "        json.dump(user, f)\n",
    "        f.write('\\n')\n",
    "        \n",
    "print('Written to file.')"
   ]
  },
  {
   "cell_type": "code",
   "execution_count": 14,
   "metadata": {
    "collapsed": false,
    "scrolled": false
   },
   "outputs": [
    {
     "name": "stdout",
     "output_type": "stream",
     "text": [
      "Written to file.\n"
     ]
    }
   ],
   "source": [
    "with open('../data/output/users.json', 'a') as f:\n",
    "    for i in range(0, len(unknown) + 1, 100):\n",
    "        for user in lookup(','.join(unknown[i : i + 100])):\n",
    "            json.dump((user['id_str'], \n",
    "                       user['description'] if user['description'] else ''), f)\n",
    "            \n",
    "            f.write('\\n')\n",
    "            \n",
    "print('Written to file.')"
   ]
  }
 ],
 "metadata": {
  "kernelspec": {
   "display_name": "Python 3",
   "language": "python",
   "name": "python3"
  },
  "language_info": {
   "codemirror_mode": {
    "name": "ipython",
    "version": 3
   },
   "file_extension": ".py",
   "mimetype": "text/x-python",
   "name": "python",
   "nbconvert_exporter": "python",
   "pygments_lexer": "ipython3",
   "version": "3.5.1"
  },
  "widgets": {
   "state": {},
   "version": "1.1.2"
  }
 },
 "nbformat": 4,
 "nbformat_minor": 0
}
