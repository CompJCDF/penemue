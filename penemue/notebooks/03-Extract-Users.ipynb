{
 "cells": [
  {
   "cell_type": "code",
   "execution_count": null,
   "metadata": {
    "collapsed": false
   },
   "outputs": [],
   "source": [
    "import json\n",
    "import sys\n",
    "import os\n",
    "\n",
    "sys.path.append(os.path.abspath(os.path.join(os.getcwd(), os.pardir)))\n",
    "from utils import twiterate\n",
    "from utils import lookup"
   ]
  },
  {
   "cell_type": "code",
   "execution_count": null,
   "metadata": {
    "collapsed": true
   },
   "outputs": [],
   "source": [
    "def get_known_user(t):\n",
    "    \"\"\"Return only the id_str, description for users.\n",
    "    \n",
    "    :param t: A user id_str and description\n",
    "    :return:  An id_str (string)\n",
    "    \"\"\"\n",
    "    \n",
    "    return t['user']['id_str']"
   ]
  },
  {
   "cell_type": "code",
   "execution_count": null,
   "metadata": {
    "collapsed": true
   },
   "outputs": [],
   "source": [
    "def get_unknown_user(t):\n",
    "    \"\"\"Extract list of user id_strs from \n",
    "    mentions and replies\n",
    "    \n",
    "    :param t: A tweet object\n",
    "    :return:  List of id_strs (strings)\n",
    "    \"\"\"\n",
    "    \n",
    "    if t['in_reply_to_user_id_str']:\n",
    "        return [t['in_reply_to_user_id_str']]\n",
    "    \n",
    "    if len(t['entities']['user_mentions']) > 0:\n",
    "        return [m['id_str'] for m in t['entities']['user_mentions']]"
   ]
  },
  {
   "cell_type": "code",
   "execution_count": null,
   "metadata": {
    "collapsed": false
   },
   "outputs": [],
   "source": [
    "users = twiterate(get_known_user)"
   ]
  },
  {
   "cell_type": "code",
   "execution_count": null,
   "metadata": {
    "collapsed": false
   },
   "outputs": [],
   "source": [
    "users += [item\n",
    "          for sublist in twiterate(get_unknown_user)\n",
    "          for item in sublist]"
   ]
  },
  {
   "cell_type": "code",
   "execution_count": null,
   "metadata": {
    "collapsed": true
   },
   "outputs": [],
   "source": [
    "users = list(set(users))"
   ]
  },
  {
   "cell_type": "code",
   "execution_count": null,
   "metadata": {
    "collapsed": false
   },
   "outputs": [],
   "source": [
    "print(len(users))"
   ]
  },
  {
   "cell_type": "markdown",
   "metadata": {},
   "source": [
    "- Write as line delimitted JSON.\n",
    "- Collect most up to date profile."
   ]
  },
  {
   "cell_type": "code",
   "execution_count": null,
   "metadata": {
    "collapsed": false,
    "scrolled": false
   },
   "outputs": [],
   "source": [
    "with open('../data/output/users.json', 'w') as f:\n",
    "    step = 100\n",
    "    for i in range(0, len(users) + 1, step):\n",
    "        for user in lookup(','.join(users[i : i + step])):\n",
    "            json.dump((user['id_str'], \n",
    "                       user['description'] if user['description'] else ''), f)\n",
    "            \n",
    "            f.write('\\n')\n",
    "        print('Wrote records')\n",
    "            \n",
    "    print('End')"
   ]
  },
  {
   "cell_type": "code",
   "execution_count": null,
   "metadata": {
    "collapsed": true
   },
   "outputs": [],
   "source": []
  }
 ],
 "metadata": {
  "kernelspec": {
   "display_name": "Python 3",
   "language": "python",
   "name": "python3"
  },
  "language_info": {
   "codemirror_mode": {
    "name": "ipython",
    "version": 3
   },
   "file_extension": ".py",
   "mimetype": "text/x-python",
   "name": "python",
   "nbconvert_exporter": "python",
   "pygments_lexer": "ipython3",
   "version": "3.5.1"
  },
  "widgets": {
   "state": {},
   "version": "1.1.2"
  }
 },
 "nbformat": 4,
 "nbformat_minor": 0
}
