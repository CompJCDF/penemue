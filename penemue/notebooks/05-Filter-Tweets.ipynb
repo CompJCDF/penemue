{
 "cells": [
  {
   "cell_type": "code",
   "execution_count": null,
   "metadata": {
    "collapsed": true
   },
   "outputs": [],
   "source": [
    "import json\n",
    "import sys\n",
    "import os.path\n",
    "import pandas as pd\n",
    "import matplotlib.pyplot as plt\n",
    "\n",
    "%matplotlib inline\n",
    "\n",
    "# add penemue to path\n",
    "sys.path.append(os.path.abspath(os.path.join(os.getcwd(), os.pardir)))\n",
    "from utils import twiterate"
   ]
  },
  {
   "cell_type": "code",
   "execution_count": null,
   "metadata": {
    "collapsed": false
   },
   "outputs": [],
   "source": [
    "def contains_user(tweet, user_ids):\n",
    "    \n",
    "    if tweet['in_reply_to_user_id_str'] not in user_ids:\n",
    "        return False\n",
    "\n",
    "    for mention in tweet['entities']['user_mentions']:\n",
    "        if mention['id_str'] not in user_ids:\n",
    "            return False\n",
    "        \n",
    "    return True"
   ]
  },
  {
   "cell_type": "code",
   "execution_count": null,
   "metadata": {
    "collapsed": false
   },
   "outputs": [],
   "source": [
    "with open('../data/output/users.json') as usersfile:\n",
    "    with open('../data/output/tweets.json') as tweetsfile:\n",
    "        with open('../data/output/tweets_discussions_within_dataset.json', 'w') as filteredfile:\n",
    "    \n",
    "            user_ids = [u['id_str'] for u in json.load(usersfile)]\n",
    "\n",
    "            for row in tweetsfile:\n",
    "                tweet = json.loads(row)\n",
    "                if contains_user(tweet, user_ids):\n",
    "                    json.dump(tweet, filteredfile)\n",
    "                    filteredfile.write('\\n')"
   ]
  },
  {
   "cell_type": "code",
   "execution_count": null,
   "metadata": {
    "collapsed": true
   },
   "outputs": [],
   "source": []
  }
 ],
 "metadata": {
  "kernelspec": {
   "display_name": "Python 3",
   "language": "python",
   "name": "python3"
  },
  "language_info": {
   "codemirror_mode": {
    "name": "ipython",
    "version": 3
   },
   "file_extension": ".py",
   "mimetype": "text/x-python",
   "name": "python",
   "nbconvert_exporter": "python",
   "pygments_lexer": "ipython3",
   "version": "3.5.1"
  },
  "widgets": {
   "state": {},
   "version": "1.1.2"
  }
 },
 "nbformat": 4,
 "nbformat_minor": 0
}
