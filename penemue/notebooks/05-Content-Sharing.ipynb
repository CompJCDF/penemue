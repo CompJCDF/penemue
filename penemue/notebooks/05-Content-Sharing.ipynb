{
 "cells": [
  {
   "cell_type": "code",
   "execution_count": 13,
   "metadata": {
    "collapsed": true
   },
   "outputs": [],
   "source": [
    "import json\n",
    "import sys\n",
    "import os\n",
    "import matplotlib.pyplot as plt\n",
    "import pandas as pd\n",
    "import collections\n",
    "\n",
    "# add penemue to path\n",
    "sys.path.append(os.path.abspath(os.path.join(os.getcwd(), os.pardir)))\n",
    "from utils import twiterate\n",
    "from utils import limiter\n",
    "\n",
    "%matplotlib inline"
   ]
  },
  {
   "cell_type": "code",
   "execution_count": null,
   "metadata": {
    "collapsed": true
   },
   "outputs": [],
   "source": [
    "def contains_entities(t, search):\n",
    "    if t['user']['screen_name'] in search:\n",
    "    \n",
    "        if 'urls' in t['entities']:\n",
    "            if len(t['entities']['urls']) > 0:\n",
    "                result['urls'] = True\n",
    "                \n",
    "        if 'media' in t['entities']:\n",
    "            if t['entities']['media']['type'] == 'photo':\n",
    "                result['photo'] = True\n",
    "                \n",
    "        if 'hashtags' in t['entities']:\n",
    "            if len(t['entities']['hashtags']) > 0:\n",
    "                result['hashtag'] = True\n",
    "                \n",
    "        if 'extended_entities' in t['entities']:\n",
    "            if t['entities']['extended_entities']['type'] == 'video':\n",
    "                result['video'] = True\n",
    "                \n",
    "        return result"
   ]
  },
  {
   "cell_type": "code",
   "execution_count": null,
   "metadata": {
    "collapsed": true
   },
   "outputs": [],
   "source": [
    "with open('..data/output/joi_originals.json') as f:\n",
    "    joi_originals = json.load(f)\n",
    "    joi_callback = lambda t : contains_entities(t, joi_originals)\n",
    "    joi_entities = collections.Counter(twiterate(joi_callback)) # doesn't work"
   ]
  },
  {
   "cell_type": "code",
   "execution_count": null,
   "metadata": {
    "collapsed": true
   },
   "outputs": [],
   "source": [
    "with open('..data/output/ooi_originals.json') as f:\n",
    "    ooi_originals = json.load(f)\n",
    "    ooi_callback = lambda t : contains_entities(t, ooi_originals)\n",
    "    ooi_entities = collections.Counter(twiterate(ooi_callback)) # doesn't work"
   ]
  },
  {
   "cell_type": "code",
   "execution_count": null,
   "metadata": {
    "collapsed": true
   },
   "outputs": [],
   "source": []
  }
 ],
 "metadata": {
  "kernelspec": {
   "display_name": "Python 3",
   "language": "python",
   "name": "python3"
  },
  "language_info": {
   "codemirror_mode": {
    "name": "ipython",
    "version": 3
   },
   "file_extension": ".py",
   "mimetype": "text/x-python",
   "name": "python",
   "nbconvert_exporter": "python",
   "pygments_lexer": "ipython3",
   "version": "3.5.1"
  },
  "widgets": {
   "state": {},
   "version": "1.1.2"
  }
 },
 "nbformat": 4,
 "nbformat_minor": 0
}
