{
 "cells": [
  {
   "cell_type": "markdown",
   "metadata": {},
   "source": [
    "# Introduction\n",
    "\n",
    "An introduction to the [Penemue](https://github.com/taylorrees/penemue) notebooks.\n",
    "\n",
    "---\n",
    "\n",
    "## Preface\n",
    "\n",
    "Penemue is part of a research project that aims to investigate modern, social network driven journalism. By collecting data from the social media accounts of a distinct group of journalists and news organisations we hope to answer key questions surrounding the journalism industry. To learn more about the project itself please see the [readme file](https://github.com/taylorrees/penemue/blob/master/README.md) in the root of the project folder.\n",
    "\n",
    "## The Notebooks\n",
    "\n",
    "The notebooks contained within the project aim to document the findings of our research, as well as the processes we used to produce the results. It is our hope that these notebooks will provide insight into the techniques we used, whilst also allowing anyone to reproduce our experiments; albeit with a different set of data as sharing Twitter data is against their [terms of service](https://dev.twitter.com/overview/terms/agreement-and-policy).\n",
    "\n",
    "To successfully run the notebooks you will need a couple of things. Firstly, you'll need some actual data to run the notebooks on. Whilst we cannot provide you with this data directly, we can provide you with the tools to collect your own. To get started head over to https://github.com/taylorrees/penemue, clone the repository and read the getting started guide. Secondly, you'll need some dependencies to run the notebooks; so make sure you have the ones listed below installed (we made this easy for you, just run the appropriate cell).\n",
    "\n",
    "## Dependencies\n",
    "\n",
    "- `pymongo`\n",
    "- `matplotlib`\n",
    "- `pandas`\n",
    "- `textblob`\n",
    "- `beautifulsoup4`"
   ]
  },
  {
   "cell_type": "code",
   "execution_count": null,
   "metadata": {
    "collapsed": true
   },
   "outputs": [],
   "source": [
    "%%bash\n",
    "pip3 install pymongo"
   ]
  },
  {
   "cell_type": "code",
   "execution_count": null,
   "metadata": {
    "collapsed": true
   },
   "outputs": [],
   "source": [
    "%%bash\n",
    "pip3 install beautifulsoup4"
   ]
  },
  {
   "cell_type": "code",
   "execution_count": null,
   "metadata": {
    "collapsed": true
   },
   "outputs": [],
   "source": [
    "%%bash\n",
    "pip3 install matplotlib"
   ]
  },
  {
   "cell_type": "code",
   "execution_count": null,
   "metadata": {
    "collapsed": true
   },
   "outputs": [],
   "source": [
    "%%bash\n",
    "pip3 install pandas"
   ]
  },
  {
   "cell_type": "code",
   "execution_count": null,
   "metadata": {
    "collapsed": true
   },
   "outputs": [],
   "source": [
    "%%bash\n",
    "pip3 install textblob"
   ]
  },
  {
   "cell_type": "markdown",
   "metadata": {},
   "source": [
    "## What Next?\n",
    "\n",
    "Well, now you know _what_ the notebooks are about you can begin your journey through our data. Each notebook is prefixed with a number, but it's upto you how you explore the notebooks. Each will contain the methodology behind the outcome and why we decided to take this approach, so you shouldn't find it too hard to follow along regardless of the path you take.\n",
    "\n",
    "Try this: [Overview](https://github.com/taylorrees/penemue/blob/master/penemue/notebooks/02-Overview.ipynb)"
   ]
  }
 ],
 "metadata": {
  "kernelspec": {
   "display_name": "Python 3",
   "language": "python",
   "name": "python3"
  },
  "language_info": {
   "codemirror_mode": {
    "name": "ipython",
    "version": 3
   },
   "file_extension": ".py",
   "mimetype": "text/x-python",
   "name": "python",
   "nbconvert_exporter": "python",
   "pygments_lexer": "ipython3",
   "version": "3.5.1"
  },
  "widgets": {
   "state": {},
   "version": "1.1.2"
  }
 },
 "nbformat": 4,
 "nbformat_minor": 0
}
