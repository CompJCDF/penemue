{
 "cells": [
  {
   "cell_type": "markdown",
   "metadata": {},
   "source": [
    "# Journalist Discussions\n",
    "\n",
    "_Do journalists talk to others, or mostly amongst themselves?_\n",
    "\n",
    "---\n",
    "\n",
    "Using the data collected, we hope that we are able to begin answering this question. By analysing the tweets collected during our monitoring period, and analysing the descriptions of each user profile contained within those tweets, we are able to classify users into two distinct groups, journalists and non journalists.\n",
    "\n",
    "By then reading the content of all tweets authored by a user who is classified as a journalist, that are either replies or contain a mention of another twitter user, we can begin to establish whether journalists talk mostly amongst themselves or whether they interact with those outside of their community.\n"
   ]
  },
  {
   "cell_type": "code",
   "execution_count": null,
   "metadata": {
    "collapsed": false
   },
   "outputs": [],
   "source": [
    "import json\n",
    "import sys\n",
    "import os.path\n",
    "import pandas as pd\n",
    "import matplotlib.pyplot as plt\n",
    "\n",
    "%matplotlib inline\n",
    "\n",
    "# add penemue to path\n",
    "sys.path.append(os.path.abspath(os.path.join(os.getcwd(), os.pardir)))\n",
    "from utils import user_has_keyword\n",
    "from utils import twiterate"
   ]
  },
  {
   "cell_type": "code",
   "execution_count": null,
   "metadata": {
    "collapsed": true
   },
   "outputs": [],
   "source": [
    "def get_reply(t):\n",
    "    \"\"\"Format replies to show sender, reciever.\n",
    "    \n",
    "    :param t: A tweet object\n",
    "    :return:  A python dict\n",
    "    \"\"\"\n",
    "    \n",
    "    return {'source': t['user']['id_str'], \n",
    "            'target': t['in_reply_to_user_id_str']}"
   ]
  },
  {
   "cell_type": "code",
   "execution_count": null,
   "metadata": {
    "collapsed": true
   },
   "outputs": [],
   "source": [
    "def get_mention(t):\n",
    "    \"\"\"Extract mentioning user and the users mentioned.\n",
    "    \n",
    "    :param t: A tweet object\n",
    "    :return:  A python dict\n",
    "              The mentions key of the dictionary\n",
    "              contains a list of strings\n",
    "    \"\"\"\n",
    "    \n",
    "    user_mentions = [mention['id_str'] \n",
    "                     for mention in t['entities']['user_mentions']]\n",
    "    \n",
    "    return {'user_id_str': t['user']['id_str'],\n",
    "            'mentions': user_mentions}"
   ]
  },
  {
   "cell_type": "code",
   "execution_count": null,
   "metadata": {
    "collapsed": true
   },
   "outputs": [],
   "source": [
    "tweets_file = '../data/output/journalist_discussions_within_dataset.json'"
   ]
  },
  {
   "cell_type": "code",
   "execution_count": null,
   "metadata": {
    "collapsed": true
   },
   "outputs": [],
   "source": [
    "joi = []\n",
    "oth = []"
   ]
  },
  {
   "cell_type": "code",
   "execution_count": null,
   "metadata": {
    "collapsed": false
   },
   "outputs": [],
   "source": [
    "with open('../data/output/users.json', 'r') as usersfile:\n",
    "    users = json.load(usersfile)\n",
    "\n",
    "    for user in users:\n",
    "        if user_has_keyword(user):\n",
    "            joi.append(user['id_str'])\n",
    "        else: \n",
    "            oth.append(user['id_str'])"
   ]
  },
  {
   "cell_type": "code",
   "execution_count": null,
   "metadata": {
    "collapsed": false
   },
   "outputs": [],
   "source": [
    "replies = [reply \n",
    "           for reply in twiterate(get_reply, tweets_file=tweets_file) \n",
    "               if reply['target'] is not None\n",
    "               and reply['source'] in joi]"
   ]
  },
  {
   "cell_type": "code",
   "execution_count": null,
   "metadata": {
    "collapsed": false
   },
   "outputs": [],
   "source": [
    "mentions = [mention\n",
    "            for mention in twiterate(get_mention, tweets_file=tweets_file)\n",
    "                if len(mention['mentions']) > 0\n",
    "                and mention['user_id_str'] in joi]"
   ]
  },
  {
   "cell_type": "code",
   "execution_count": null,
   "metadata": {
    "collapsed": false
   },
   "outputs": [],
   "source": [
    "pd.DataFrame([len(joi), len(oth)], \n",
    "             ['Journalists', 'Non Journalists'], \n",
    "             ['Users'])"
   ]
  },
  {
   "cell_type": "code",
   "execution_count": null,
   "metadata": {
    "collapsed": false
   },
   "outputs": [],
   "source": [
    "len_mentions = len([id_str for m in mentions for id_str in m['mentions']])\n",
    "joi_mentions_joi = len([n for m in mentions for n in m['mentions'] if n in joi])\n",
    "joi_mentions_oth = len([n for m in mentions for n in m['mentions'] if n in oth])"
   ]
  },
  {
   "cell_type": "code",
   "execution_count": null,
   "metadata": {
    "collapsed": false
   },
   "outputs": [],
   "source": [
    "pd.DataFrame([[joi_mentions_joi, \"%.1f\" % ((joi_mentions_joi / len_mentions) * 100)], \n",
    "              [joi_mentions_oth, \"%.1f\" % ((joi_mentions_oth / len_mentions) * 100)]],\n",
    "             ['To Journalists', 'To Non Journalists'],\n",
    "             ['Mentions by Journalists', '%'])"
   ]
  },
  {
   "cell_type": "code",
   "execution_count": null,
   "metadata": {
    "collapsed": false
   },
   "outputs": [],
   "source": [
    "len_replies = len(replies)\n",
    "joi_to_joi = len([reply for reply in replies if reply['target'] in joi])\n",
    "joi_to_oth = len([reply for reply in replies if reply['target'] in oth])"
   ]
  },
  {
   "cell_type": "code",
   "execution_count": null,
   "metadata": {
    "collapsed": false
   },
   "outputs": [],
   "source": [
    "pd.DataFrame([[joi_to_joi, \"%.1f\" % ((joi_to_joi / len_replies) * 100)], \n",
    "              [joi_to_oth, \"%.1f\" % ((joi_to_oth / len_replies) * 100)]], \n",
    "             ['To Journalists', 'To Non Journalists'], \n",
    "             ['Replies by Journalists', '%'])"
   ]
  }
 ],
 "metadata": {
  "kernelspec": {
   "display_name": "Python 3",
   "language": "python",
   "name": "python3"
  },
  "language_info": {
   "codemirror_mode": {
    "name": "ipython",
    "version": 3
   },
   "file_extension": ".py",
   "mimetype": "text/x-python",
   "name": "python",
   "nbconvert_exporter": "python",
   "pygments_lexer": "ipython3",
   "version": "3.5.1"
  },
  "widgets": {
   "state": {},
   "version": "1.1.2"
  }
 },
 "nbformat": 4,
 "nbformat_minor": 0
}
