{
 "cells": [
  {
   "cell_type": "code",
   "execution_count": 27,
   "metadata": {
    "collapsed": false
   },
   "outputs": [
    {
     "name": "stdout",
     "output_type": "stream",
     "text": [
      "['broadcaster', 'journalists', 'editor', 'hack', 'sub', 'critic', 'reporter', 'journo', 'commentator', 'journalist', 'columnist', 'correspondent', 'presenter', 'producer', 'features', 'writing']\n",
      "                                         description    screen_name\n",
      "0                                               None   thegingerpig\n",
      "1  Oxford boy and eternal student. Presenter @uke...   BENSTREET112\n",
      "2                                                LDN  Serena__Maria\n",
      "3  Scottish European migrant living in the easter...     CluthaDubh\n",
      "4                                  #Spurs fan. #COYS   im_the_don01\n"
     ]
    }
   ],
   "source": [
    "import json\n",
    "import sys\n",
    "import pandas as pd\n",
    "import numpy as np\n",
    "import matplotlib.pyplot as plt\n",
    "\n",
    "from utils import keywords\n",
    "print(keywords)\n",
    "\n",
    "%matplotlib inline\n",
    "   \n",
    "usr = []\n",
    "\n",
    "with open('../data/output/tweets.json') as f:\n",
    "    for line in f:\n",
    "        t = json.loads(line)\n",
    "        usr.append({'screen_name': t['user']['screen_name'], \n",
    "                   'description': t['user']['description']})\n",
    "        \n",
    "df = pd.DataFrame(usr) \n",
    "print(df.head(5))"
   ]
  },
  {
   "cell_type": "code",
   "execution_count": null,
   "metadata": {
    "collapsed": true
   },
   "outputs": [],
   "source": []
  }
 ],
 "metadata": {
  "kernelspec": {
   "display_name": "Python 3",
   "language": "python",
   "name": "python3"
  },
  "language_info": {
   "codemirror_mode": {
    "name": "ipython",
    "version": 3
   },
   "file_extension": ".py",
   "mimetype": "text/x-python",
   "name": "python",
   "nbconvert_exporter": "python",
   "pygments_lexer": "ipython3",
   "version": "3.5.1"
  },
  "widgets": {
   "state": {},
   "version": "1.1.2"
  }
 },
 "nbformat": 4,
 "nbformat_minor": 0
}
