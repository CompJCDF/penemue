{
 "cells": [
  {
   "cell_type": "markdown",
   "metadata": {},
   "source": [
    "# Journalist Discussions\n",
    "\n",
    "_Do journalists talk to others, or mostly amongst themselves?_\n",
    "\n",
    "---\n",
    "\n",
    "Using the data collected, we hope that we are able to begin answering this question. By analysing the tweets collected during our monitoring period, and analysing the descriptions of each user profile contained within those tweets, we are able to classify users into two distinct groups, journalists and non journalists.\n",
    "\n",
    "By then reading the content of all tweets authored by a user who is classified as a journalist, that are either replies or contain a mention of another twitter user, we can begin to establish whether journalists talk mostly amongst themselves or whether they interact with those outside of their community.\n"
   ]
  },
  {
   "cell_type": "code",
   "execution_count": 1,
   "metadata": {
    "collapsed": false
   },
   "outputs": [],
   "source": [
    "import json\n",
    "import sys\n",
    "import os.path\n",
    "import pandas as pd\n",
    "import matplotlib.pyplot as plt\n",
    "\n",
    "%matplotlib inline\n",
    "\n",
    "# add penemue to path\n",
    "sys.path.append(os.path.abspath(os.path.join(os.getcwd(), os.pardir)))\n",
    "from utils import user_has_keyword\n",
    "from utils import twiterate\n",
    "from utils import lookup"
   ]
  },
  {
   "cell_type": "markdown",
   "metadata": {},
   "source": [
    "First, we must develop a method of classification for our set of twitter users. Using the same filtering technique used in the data collection section of our research we examine each user description for the presence of a journalism related keyword. To achieve this, we have made use of the `user_has_keyowrd` function, found in the `utils` directory.\n",
    "\n",
    "If the user description contains the presence of a keyword we classify them as a _journalist_, if they do not they are pooled as _other_ users."
   ]
  },
  {
   "cell_type": "code",
   "execution_count": 2,
   "metadata": {
    "collapsed": true
   },
   "outputs": [],
   "source": [
    "def classify(users):\n",
    "    \"\"\"Classify users as journalists or other.\n",
    "    \n",
    "    :param users: A twitter user object\n",
    "                  This may be altered to contain\n",
    "                  only the id_str and description\n",
    "                  props.\n",
    "                  \n",
    "    :return joi:  A list of journalist str_ids\n",
    "    :return oth:  A list of non journalist str_ids\n",
    "    \"\"\"\n",
    "    \n",
    "    joi = list(set([user['id_str'] \n",
    "                    for user in users \n",
    "                        if user_has_keyword(user)]))\n",
    "    \n",
    "    oth = list(set([user['id_str'] \n",
    "                    for user in users \n",
    "                        if not user_has_keyword(user)]))\n",
    "    \n",
    "    return joi, oth"
   ]
  },
  {
   "cell_type": "markdown",
   "metadata": {},
   "source": [
    "To extract user profiles (i.e. user id_str and description) from the tweet we must create a callback for the `twiterate` function defined in the `utils` directory. The function takes a callback with a tweet object as the parameter in order to iterate through each tweet in the provided json file and return the tweet information we have requested."
   ]
  },
  {
   "cell_type": "code",
   "execution_count": 3,
   "metadata": {
    "collapsed": true
   },
   "outputs": [],
   "source": [
    "def get_user(t):\n",
    "    \"\"\"Return only the id_str, description for users.\n",
    "    \n",
    "    :param t: A tweet object\n",
    "    :return:  A python dict\n",
    "    \"\"\"\n",
    "    \n",
    "    return {'id_str': t['user']['id_str'],\n",
    "            'description': t['user']['description'].lower() \n",
    "                if t['user']['description'] else ''}"
   ]
  },
  {
   "cell_type": "markdown",
   "metadata": {},
   "source": [
    "To extract all tweets that are in reply to another tweet we again make use of the `twiterate` function and so we must define an appropriate callback. Here we tag the author of the reply as the sender (from) and the receiver (to) as the user specified by the `in_reply_to_user_id_str` property of the tweet."
   ]
  },
  {
   "cell_type": "code",
   "execution_count": 4,
   "metadata": {
    "collapsed": true
   },
   "outputs": [],
   "source": [
    "def get_reply(t):\n",
    "    \"\"\"Format replies to show sender, reciever.\n",
    "    \n",
    "    :param t: A tweet object\n",
    "    :return:  A python dict\n",
    "    \"\"\"\n",
    "    \n",
    "    return {'from': t['user']['id_str'], \n",
    "            'to': t['in_reply_to_user_id_str']}"
   ]
  },
  {
   "cell_type": "markdown",
   "metadata": {},
   "source": [
    "Similar to the process above, in order to extract user mentions we define a callback to pass to the `twiterate` function. However, in this case we must iterate through the list of mentions, extract the `id_str` of each user and place the resulting value in a list."
   ]
  },
  {
   "cell_type": "code",
   "execution_count": 5,
   "metadata": {
    "collapsed": true
   },
   "outputs": [],
   "source": [
    "def get_mention(t):\n",
    "    \"\"\"Extract mentioning user and the users mentioned.\n",
    "    \n",
    "    :param t: A tweet object\n",
    "    :return:  A python dict\n",
    "              The mentions key of the dictionary\n",
    "              contains a list of strings\n",
    "    \"\"\"\n",
    "    \n",
    "    user_mentions = [mention['id_str'] \n",
    "                     for mention in t['entities']['user_mentions']]\n",
    "    \n",
    "    return {'user_id_str': t['user']['id_str'],\n",
    "            'mentions': user_mentions}"
   ]
  },
  {
   "cell_type": "markdown",
   "metadata": {},
   "source": [
    "Now we can begin to collect data from the set of collected tweets. \n",
    "\n",
    "First, we iterate through each tweet and extract the user profile contained within the tweet using the `twiterate` function. We can then pass the result of this directly the the `classify` function that we defined above to classify the users as either a journalist or not a journalist. The results are unpacked into two variables."
   ]
  },
  {
   "cell_type": "code",
   "execution_count": 6,
   "metadata": {
    "collapsed": false
   },
   "outputs": [
    {
     "name": "stdout",
     "output_type": "stream",
     "text": [
      "[Progress] \n",
      "[=======]\n"
     ]
    }
   ],
   "source": [
    "joi, oth = classify(twiterate(get_user))"
   ]
  },
  {
   "cell_type": "markdown",
   "metadata": {},
   "source": [
    "Next we can extract all the replies and mentions made by journalists during the monitoring period."
   ]
  },
  {
   "cell_type": "code",
   "execution_count": 7,
   "metadata": {
    "collapsed": false
   },
   "outputs": [
    {
     "name": "stdout",
     "output_type": "stream",
     "text": [
      "[Progress] \n",
      "[=======]\n"
     ]
    }
   ],
   "source": [
    "replies = [reply \n",
    "           for reply in twiterate(get_reply) \n",
    "               if reply['to'] is not None\n",
    "               and reply['from'] in joi]"
   ]
  },
  {
   "cell_type": "code",
   "execution_count": 8,
   "metadata": {
    "collapsed": false
   },
   "outputs": [
    {
     "name": "stdout",
     "output_type": "stream",
     "text": [
      "[Progress] \n",
      "[=======]\n"
     ]
    }
   ],
   "source": [
    "mentions = [mention\n",
    "            for mention in twiterate(get_mention)\n",
    "                if len(mention['mentions']) > 0\n",
    "                and mention['user_id_str'] in joi]"
   ]
  },
  {
   "cell_type": "markdown",
   "metadata": {},
   "source": [
    "Extracting the users who created a reply, created a mention, received a reply or received a mention will create a set of users for whom we have no data. This is becuase we currently only have data for those users who created a tweet within our monitoring period and, as those users who were mentioned may not have created a tweet during this time, we do not have any stored user profiles for these users. \n",
    "\n",
    "In order to classify these users we must request their user profiles using the twitter api. Using the `users/lookup` method we are able to receive upto 100 user profiles per request and once we have the profile information we can then begin to classify these users."
   ]
  },
  {
   "cell_type": "code",
   "execution_count": 9,
   "metadata": {
    "collapsed": true
   },
   "outputs": [],
   "source": [
    "# extract users by id_str\n",
    "unclassified = [reply['to'] \n",
    "                for reply in replies \n",
    "                    if reply['to'] not in joi + oth]\n",
    "\n",
    "unclassified += [id_str \n",
    "                 for m in mentions \n",
    "                     for id_str in m['mentions'] \n",
    "                         if id_str not in joi + oth]\n",
    "\n",
    "# remove duplicates\n",
    "unclassified = list(set(unclassified))\n",
    "\n",
    "# lookup users\n",
    "users = []\n",
    "for i in range(0, len(unclassified) + 1, 100):\n",
    "    users += [{'id_str': user['id_str'], 'description': user['description']} \n",
    "                  for user in lookup(','.join(unclassified[i : i + 100]))]\n",
    "# classify users\n",
    "c = classify(users)\n",
    "\n",
    "# add classified users\n",
    "joi = joi + c[0]\n",
    "oth = oth + c[1]"
   ]
  },
  {
   "cell_type": "markdown",
   "metadata": {},
   "source": [
    "Now that we have classified all users as being either a journalist or not a journalist we can begin to produce some meaningful results from our data. \n",
    "\n",
    "---\n",
    "\n",
    "Users classified as journalists and non journalists."
   ]
  },
  {
   "cell_type": "code",
   "execution_count": 10,
   "metadata": {
    "collapsed": false
   },
   "outputs": [
    {
     "data": {
      "text/html": [
       "<div>\n",
       "<table border=\"1\" class=\"dataframe\">\n",
       "  <thead>\n",
       "    <tr style=\"text-align: right;\">\n",
       "      <th></th>\n",
       "      <th>Users</th>\n",
       "    </tr>\n",
       "  </thead>\n",
       "  <tbody>\n",
       "    <tr>\n",
       "      <th>Journalists</th>\n",
       "      <td>671</td>\n",
       "    </tr>\n",
       "    <tr>\n",
       "      <th>Non Journalists</th>\n",
       "      <td>4435</td>\n",
       "    </tr>\n",
       "  </tbody>\n",
       "</table>\n",
       "</div>"
      ],
      "text/plain": [
       "                 Users\n",
       "Journalists        671\n",
       "Non Journalists   4435"
      ]
     },
     "execution_count": 10,
     "metadata": {},
     "output_type": "execute_result"
    }
   ],
   "source": [
    "pd.DataFrame([len(joi), len(oth)], \n",
    "             ['Journalists', 'Non Journalists'], \n",
    "             ['Users'])"
   ]
  },
  {
   "cell_type": "markdown",
   "metadata": {},
   "source": [
    "Number of direct mentions that were made by journalists to both journalists and non journalists."
   ]
  },
  {
   "cell_type": "code",
   "execution_count": 11,
   "metadata": {
    "collapsed": false
   },
   "outputs": [
    {
     "data": {
      "text/html": [
       "<div>\n",
       "<table border=\"1\" class=\"dataframe\">\n",
       "  <thead>\n",
       "    <tr style=\"text-align: right;\">\n",
       "      <th></th>\n",
       "      <th>Mentions by Journalists</th>\n",
       "    </tr>\n",
       "  </thead>\n",
       "  <tbody>\n",
       "    <tr>\n",
       "      <th>To Journalists</th>\n",
       "      <td>434</td>\n",
       "    </tr>\n",
       "    <tr>\n",
       "      <th>To Non Journalists</th>\n",
       "      <td>279</td>\n",
       "    </tr>\n",
       "  </tbody>\n",
       "</table>\n",
       "</div>"
      ],
      "text/plain": [
       "                    Mentions by Journalists\n",
       "To Journalists                          434\n",
       "To Non Journalists                      279"
      ]
     },
     "execution_count": 11,
     "metadata": {},
     "output_type": "execute_result"
    }
   ],
   "source": [
    "joi_mentions_joi = [n for m in mentions for n in m['mentions'] if n in joi]\n",
    "joi_mentions_oth = [n for m in mentions for n in m['mentions'] if n in oth]\n",
    "\n",
    "pd.DataFrame([len(joi_mentions_joi), len(joi_mentions_oth)],\n",
    "             ['To Journalists', 'To Non Journalists'],\n",
    "             ['Mentions by Journalists'])"
   ]
  },
  {
   "cell_type": "markdown",
   "metadata": {},
   "source": [
    "Number of direct replies that were made by journalists to both journalists and non journalists."
   ]
  },
  {
   "cell_type": "code",
   "execution_count": 12,
   "metadata": {
    "collapsed": false
   },
   "outputs": [
    {
     "data": {
      "text/html": [
       "<div>\n",
       "<table border=\"1\" class=\"dataframe\">\n",
       "  <thead>\n",
       "    <tr style=\"text-align: right;\">\n",
       "      <th></th>\n",
       "      <th>Replies by Journalists</th>\n",
       "    </tr>\n",
       "  </thead>\n",
       "  <tbody>\n",
       "    <tr>\n",
       "      <th>To Journalists</th>\n",
       "      <td>67</td>\n",
       "    </tr>\n",
       "    <tr>\n",
       "      <th>To Non Journalists</th>\n",
       "      <td>36</td>\n",
       "    </tr>\n",
       "  </tbody>\n",
       "</table>\n",
       "</div>"
      ],
      "text/plain": [
       "                    Replies by Journalists\n",
       "To Journalists                          67\n",
       "To Non Journalists                      36"
      ]
     },
     "execution_count": 12,
     "metadata": {},
     "output_type": "execute_result"
    }
   ],
   "source": [
    "joi_to_joi = [reply for reply in replies if reply['to'] in joi]\n",
    "oth_to_oth = [reply for reply in replies if reply['to'] in oth]\n",
    "\n",
    "pd.DataFrame([len(joi_to_joi), len(oth_to_oth)], \n",
    "             ['To Journalists', 'To Non Journalists'], \n",
    "             ['Replies by Journalists'])"
   ]
  }
 ],
 "metadata": {
  "kernelspec": {
   "display_name": "Python 3",
   "language": "python",
   "name": "python3"
  },
  "language_info": {
   "codemirror_mode": {
    "name": "ipython",
    "version": 3
   },
   "file_extension": ".py",
   "mimetype": "text/x-python",
   "name": "python",
   "nbconvert_exporter": "python",
   "pygments_lexer": "ipython3",
   "version": "3.5.1"
  },
  "widgets": {
   "state": {},
   "version": "1.1.2"
  }
 },
 "nbformat": 4,
 "nbformat_minor": 0
}
